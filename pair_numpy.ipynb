{
 "cells": [
  {
   "cell_type": "code",
   "execution_count": 5,
   "metadata": {},
   "outputs": [
    {
     "name": "stdout",
     "output_type": "stream",
     "text": [
      "Requirement already satisfied: numpy in /home/elenag/anaconda3/lib/python3.9/site-packages (1.20.3)\n"
     ]
    }
   ],
   "source": [
    "!pip install numpy\n"
   ]
  },
  {
   "cell_type": "code",
   "execution_count": 6,
   "metadata": {},
   "outputs": [],
   "source": [
    "import numpy as np"
   ]
  },
  {
   "cell_type": "markdown",
   "metadata": {},
   "source": [
    "# CREACIÓN E INDEXACIÓN"
   ]
  },
  {
   "cell_type": "markdown",
   "metadata": {},
   "source": [
    "#### 1. Crea un array 1D con 50 valores aleatorio del 10 al 99. Accede a los elementos en las posiciones múltiplos de 5"
   ]
  },
  {
   "cell_type": "code",
   "execution_count": 7,
   "metadata": {},
   "outputs": [
    {
     "data": {
      "text/plain": [
       "array([47, 73, 14, 90, 22, 12, 68, 31, 12, 70, 12, 70, 32, 49, 53, 48, 97,\n",
       "       38, 10, 33, 71, 69, 45, 77, 22, 87, 65, 20, 18, 33, 84, 30, 23, 60,\n",
       "       19, 90, 90, 87, 16, 53, 46, 27, 78, 47, 25, 25, 65, 48, 80, 65])"
      ]
     },
     "execution_count": 7,
     "metadata": {},
     "output_type": "execute_result"
    }
   ],
   "source": [
    "array1 = np.random.randint (10, 99, 50, int)\n",
    "array1"
   ]
  },
  {
   "cell_type": "code",
   "execution_count": 8,
   "metadata": {},
   "outputs": [
    {
     "data": {
      "text/plain": [
       "array([12, 12, 48, 71, 87, 84, 90, 46, 25])"
      ]
     },
     "execution_count": 8,
     "metadata": {},
     "output_type": "execute_result"
    }
   ],
   "source": [
    "array1[5::5]"
   ]
  },
  {
   "cell_type": "markdown",
   "metadata": {},
   "source": [
    "#### 2. Crea un array 1D con 30 valores del 1 al 20 (ambos incluidos). Utiliza indexación para obtener los elementos en las posiciones impares"
   ]
  },
  {
   "cell_type": "code",
   "execution_count": 9,
   "metadata": {},
   "outputs": [
    {
     "data": {
      "text/plain": [
       "array([12,  7,  6, 10,  1,  9,  2,  1,  3,  6, 10,  3,  8, 19, 12, 10,  3,\n",
       "       16, 12,  9,  6, 15, 20, 18,  1,  7,  2, 19, 16,  4])"
      ]
     },
     "execution_count": 9,
     "metadata": {},
     "output_type": "execute_result"
    }
   ],
   "source": [
    "array2 = np.random.randint (1, 21, 30, int)\n",
    "array2"
   ]
  },
  {
   "cell_type": "code",
   "execution_count": 10,
   "metadata": {},
   "outputs": [
    {
     "data": {
      "text/plain": [
       "array([ 7, 10,  9,  1,  6,  3, 19, 10, 16,  9, 15, 18,  7, 19,  4])"
      ]
     },
     "execution_count": 10,
     "metadata": {},
     "output_type": "execute_result"
    }
   ],
   "source": [
    "array2[1::2]"
   ]
  },
  {
   "cell_type": "markdown",
   "metadata": {},
   "source": [
    "#### 3. Crea un array 2D de forma (4, 6) con números aleatorios decimales (no deben estar comprendidos solo entre 0 y 1). Accede a la última fila de la matriz. Los decimales deben estar redondeados a 2 decimales"
   ]
  },
  {
   "cell_type": "code",
   "execution_count": 16,
   "metadata": {},
   "outputs": [
    {
     "data": {
      "text/plain": [
       "array([[15,  9, 15, 17, 11, 10],\n",
       "       [14,  8,  1, 16,  0,  9],\n",
       "       [16, 11, 11, 12, 11,  7],\n",
       "       [17,  9,  8, 15, 17, 13]])"
      ]
     },
     "execution_count": 16,
     "metadata": {},
     "output_type": "execute_result"
    }
   ],
   "source": [
    "# Puesto que no hay un código directo para crear un array de nros aleatorios decimales, lo podemos hacer de 2 formas: \n",
    "\n",
    "# Opción 1: Creamos 2 matrices: una con números enteros y otra con decimales y las sumamos -\n",
    "enteros = np.random.randint(0, 20, (4,6))\n",
    "enteros"
   ]
  },
  {
   "cell_type": "code",
   "execution_count": 18,
   "metadata": {},
   "outputs": [
    {
     "data": {
      "text/plain": [
       "array([[0.74282282, 0.12787129, 0.75147414, 0.56716659, 0.75708011,\n",
       "        0.6707252 ],\n",
       "       [0.60032362, 0.40043888, 0.99537105, 0.71638462, 0.33814663,\n",
       "        0.28010145],\n",
       "       [0.95217525, 0.02069376, 0.62528619, 0.39652759, 0.82730848,\n",
       "        0.07706993],\n",
       "       [0.49322214, 0.92367626, 0.42124698, 0.16462513, 0.2754593 ,\n",
       "        0.56422837]])"
      ]
     },
     "execution_count": 18,
     "metadata": {},
     "output_type": "execute_result"
    }
   ],
   "source": [
    "decimales = np.random.rand(4,6)\n",
    "decimales"
   ]
  },
  {
   "cell_type": "code",
   "execution_count": 26,
   "metadata": {},
   "outputs": [
    {
     "data": {
      "text/plain": [
       "array([[15.74,  9.13, 15.75, 17.57, 11.76, 10.67],\n",
       "       [14.6 ,  8.4 ,  2.  , 16.72,  0.34,  9.28],\n",
       "       [16.95, 11.02, 11.63, 12.4 , 11.83,  7.08],\n",
       "       [17.49,  9.92,  8.42, 15.16, 17.28, 13.56]])"
      ]
     },
     "execution_count": 26,
     "metadata": {},
     "output_type": "execute_result"
    }
   ],
   "source": [
    "array3_opcion1=np.add(enteros,decimales)\n",
    "np.round(array3_opcion1,2)"
   ]
  },
  {
   "cell_type": "code",
   "execution_count": null,
   "metadata": {},
   "outputs": [],
   "source": [
    "# Opción 2: Le sumamos 5 a aca uno de los valores de la matriz de decimales"
   ]
  },
  {
   "cell_type": "code",
   "execution_count": 23,
   "metadata": {},
   "outputs": [],
   "source": [
    "array3_opcion2 = decimales + 5"
   ]
  },
  {
   "cell_type": "code",
   "execution_count": 25,
   "metadata": {},
   "outputs": [
    {
     "data": {
      "text/plain": [
       "array([[5.74, 5.13, 5.75, 5.57, 5.76, 5.67],\n",
       "       [5.6 , 5.4 , 6.  , 5.72, 5.34, 5.28],\n",
       "       [5.95, 5.02, 5.63, 5.4 , 5.83, 5.08],\n",
       "       [5.49, 5.92, 5.42, 5.16, 5.28, 5.56]])"
      ]
     },
     "execution_count": 25,
     "metadata": {},
     "output_type": "execute_result"
    }
   ],
   "source": [
    "np.round(array3_opcion2,2)"
   ]
  },
  {
   "cell_type": "markdown",
   "metadata": {},
   "source": [
    "#### 4. Crea un array NumPy 2D de forma (6, 4) con valores decimales entre 0 y 1. Accede a la segunda columna de la matriz. Los números deben estar redondeados a 2 decimales"
   ]
  },
  {
   "cell_type": "code",
   "execution_count": null,
   "metadata": {},
   "outputs": [
    {
     "data": {
      "text/plain": [
       "array([[0.75347854, 0.29405312, 0.73989917, 0.83199575],\n",
       "       [0.61588224, 0.53399207, 0.8453044 , 0.80175398],\n",
       "       [0.77420038, 0.59558416, 0.47563843, 0.27117434],\n",
       "       [0.4792709 , 0.55968784, 0.06347147, 0.62859642],\n",
       "       [0.73648678, 0.60903255, 0.15581779, 0.43327703],\n",
       "       [0.0287776 , 0.34137127, 0.25389488, 0.78934105]])"
      ]
     },
     "execution_count": 32,
     "metadata": {},
     "output_type": "execute_result"
    }
   ],
   "source": [
    "array4 = np.random.rand(6,4)\n",
    "array4"
   ]
  },
  {
   "cell_type": "code",
   "execution_count": null,
   "metadata": {},
   "outputs": [
    {
     "data": {
      "text/plain": [
       "array([0.29, 0.53, 0.6 , 0.56, 0.61, 0.34])"
      ]
     },
     "execution_count": 36,
     "metadata": {},
     "output_type": "execute_result"
    }
   ],
   "source": [
    "np.round(array4[:,1],2) "
   ]
  },
  {
   "cell_type": "markdown",
   "metadata": {},
   "source": [
    "#### 5. Crea un array 1D con 30 valores enteros aleatorios entre -50 y 50. Extrae los valores negativos (Miriam)"
   ]
  },
  {
   "cell_type": "code",
   "execution_count": null,
   "metadata": {},
   "outputs": [
    {
     "data": {
      "text/plain": [
       "array([ 43, -30,  28,  17, -26,   9,  10,  11,  -7, -24,  26, -29,  39,\n",
       "        -9,  33, -18,  49, -40, -30, -34,  37, -16, -14, -50, -33, -17,\n",
       "        44, -10, -18,  31])"
      ]
     },
     "execution_count": 59,
     "metadata": {},
     "output_type": "execute_result"
    }
   ],
   "source": [
    "array5 = np.random.randint(-50, 50, 30)\n",
    "array5"
   ]
  },
  {
   "cell_type": "code",
   "execution_count": null,
   "metadata": {},
   "outputs": [
    {
     "data": {
      "text/plain": [
       "array([False,  True, False, False,  True, False, False, False,  True,\n",
       "        True, False,  True, False,  True, False,  True, False,  True,\n",
       "        True,  True, False,  True,  True,  True,  True,  True, False,\n",
       "        True,  True, False])"
      ]
     },
     "execution_count": 61,
     "metadata": {},
     "output_type": "execute_result"
    }
   ],
   "source": [
    "resultado5 = np.where(array5 < 0, True, False)\n",
    "\n",
    "resultado5"
   ]
  },
  {
   "cell_type": "markdown",
   "metadata": {},
   "source": [
    "#### 6. Crea un array 1D con 10 valores entre 0 y 1. Redondea los decimales a 2. Obtén los elementos cuyo valor es mayor que 0.5. ¿En que posición/es están esos elementos? (Elena)\n"
   ]
  },
  {
   "cell_type": "code",
   "execution_count": 29,
   "metadata": {},
   "outputs": [
    {
     "data": {
      "text/plain": [
       "array([0.89, 0.51, 0.98, 0.71, 0.28, 0.27, 0.64, 0.49, 0.52, 0.69])"
      ]
     },
     "execution_count": 29,
     "metadata": {},
     "output_type": "execute_result"
    }
   ],
   "source": [
    "array6 = np.round(np.random.rand(10),2)\n",
    "array6"
   ]
  },
  {
   "cell_type": "code",
   "execution_count": 32,
   "metadata": {},
   "outputs": [
    {
     "data": {
      "text/plain": [
       "(array([0, 1, 2, 3, 6, 8, 9]),)"
      ]
     },
     "execution_count": 32,
     "metadata": {},
     "output_type": "execute_result"
    }
   ],
   "source": [
    "np.where(array6>0.5) #Lo que nos devuelve es un array de nros, en el que cada nro es la posición del valor en el array 6 donde se cumple la condición de que el valor sea superior a 0.5"
   ]
  },
  {
   "cell_type": "markdown",
   "metadata": {},
   "source": [
    "#### 7. Crea un array 1D con 40 valores del 1 al 100 (ambos incluidos). Obtén los elementos que son divisibles por 3 y por 4 (Miriam)"
   ]
  },
  {
   "cell_type": "code",
   "execution_count": null,
   "metadata": {},
   "outputs": [],
   "source": []
  },
  {
   "cell_type": "markdown",
   "metadata": {},
   "source": [
    "#### BONUS: Crea un array 3D de forma (2, 3, 5) y 50 elementos con números enteros entre 0 y 100 (ambos incluidos). Reemplaza los elementos en posiciones múltiplos de 3 por 0 (Elena)"
   ]
  },
  {
   "cell_type": "code",
   "execution_count": 106,
   "metadata": {},
   "outputs": [
    {
     "data": {
      "text/plain": [
       "array([[[ 19,  42,  17,  26,  75],\n",
       "        [ 97,  16,  41,  42,  15],\n",
       "        [ 54,  74,  26,  47,  20]],\n",
       "\n",
       "       [[ 28,  59,  45,   3, 100],\n",
       "        [ 66,  52,   4,  76,  50],\n",
       "        [ 51,  10,  17,  99,  76]]])"
      ]
     },
     "execution_count": 106,
     "metadata": {},
     "output_type": "execute_result"
    }
   ],
   "source": [
    "array8 = np.random.randint(0, 101, (2,3,5))\n",
    "array8"
   ]
  },
  {
   "cell_type": "code",
   "execution_count": 107,
   "metadata": {},
   "outputs": [
    {
     "data": {
      "text/plain": [
       "array([[26, 42, 47],\n",
       "       [ 3, 76, 99]])"
      ]
     },
     "execution_count": 107,
     "metadata": {},
     "output_type": "execute_result"
    }
   ],
   "source": [
    "condición =array8[:,:,3]  #esta sería la condición - me coge los valores que están en las posiciones que son múltiples de 3, es decir, odos los que están en la columna 3\n",
    "condición"
   ]
  },
  {
   "cell_type": "code",
   "execution_count": 109,
   "metadata": {},
   "outputs": [
    {
     "ename": "IndexError",
     "evalue": "index 26 is out of bounds for axis 0 with size 2",
     "output_type": "error",
     "traceback": [
      "\u001b[0;31m---------------------------------------------------------------------------\u001b[0m",
      "\u001b[0;31mIndexError\u001b[0m                                Traceback (most recent call last)",
      "\u001b[0;32m/tmp/ipykernel_28998/3047992513.py\u001b[0m in \u001b[0;36m<module>\u001b[0;34m\u001b[0m\n\u001b[0;32m----> 1\u001b[0;31m \u001b[0mnp\u001b[0m\u001b[0;34m.\u001b[0m\u001b[0mwhere\u001b[0m\u001b[0;34m(\u001b[0m\u001b[0marray8\u001b[0m\u001b[0;34m[\u001b[0m\u001b[0mcondición\u001b[0m\u001b[0;34m]\u001b[0m\u001b[0;34m,\u001b[0m\u001b[0;36m0\u001b[0m\u001b[0;34m,\u001b[0m \u001b[0;32mFalse\u001b[0m\u001b[0;34m)\u001b[0m  \u001b[0;31m### NO ME SALE\u001b[0m\u001b[0;34m\u001b[0m\u001b[0;34m\u001b[0m\u001b[0m\n\u001b[0m",
      "\u001b[0;31mIndexError\u001b[0m: index 26 is out of bounds for axis 0 with size 2"
     ]
    }
   ],
   "source": [
    "np.where(array8[condición],0, False)  ### NO ME SALE"
   ]
  },
  {
   "cell_type": "code",
   "execution_count": 37,
   "metadata": {},
   "outputs": [
    {
     "data": {
      "text/plain": [
       "array([[[56,  0,  0, 80, 83],\n",
       "        [31, 38, 37, 35,  2],\n",
       "        [ 0, 77,  8, 70,  0]],\n",
       "\n",
       "       [[86,  0,  0, 35, 25],\n",
       "        [ 0,  0, 49,  0, 68],\n",
       "        [76,  0, 52, 10, 65]]])"
      ]
     },
     "execution_count": 37,
     "metadata": {},
     "output_type": "execute_result"
    }
   ],
   "source": [
    "# NOTA: Esto es para los valores que son múltiples de 3 PERO NO LAS POSICIONES\n",
    "np.where(array8%3==0, 0,array8) #Para que me remplace sólo los q son múltiples de 3 pero que deje los otros valores, pongo \"array8\" en la opción de Falso"
   ]
  },
  {
   "cell_type": "markdown",
   "metadata": {},
   "source": [
    "# Reshape y Transpose"
   ]
  },
  {
   "cell_type": "markdown",
   "metadata": {},
   "source": [
    "#### 1. Crea un array 3D de forma (2, 3, 4) con valores aleatorios entre 1 y 100 (ambos inclusive). Utiliza reshape para convertirlo en un array 2D. Deberás pensar en la forma que es correcta para hacer este cambio (Miriam)"
   ]
  },
  {
   "cell_type": "code",
   "execution_count": null,
   "metadata": {},
   "outputs": [],
   "source": []
  },
  {
   "cell_type": "markdown",
   "metadata": {},
   "source": [
    "#### 2. Crea un array 3D de forma (3, 4, 5) con valores enteros del 1 al 60 (sin incluir). Utiliza reshape para convertirlo en un array 2D (Elena)"
   ]
  },
  {
   "cell_type": "code",
   "execution_count": 54,
   "metadata": {},
   "outputs": [
    {
     "data": {
      "text/plain": [
       "array([[[17, 22,  5, 30, 26],\n",
       "        [13, 57, 32, 13, 29],\n",
       "        [40,  9, 26, 34, 50],\n",
       "        [50, 10, 16,  5, 49]],\n",
       "\n",
       "       [[54, 39,  2, 36, 53],\n",
       "        [ 4, 28, 43, 20, 12],\n",
       "        [ 7, 59, 48,  6, 30],\n",
       "        [10, 23, 11, 31, 54]],\n",
       "\n",
       "       [[35, 17, 25, 44, 36],\n",
       "        [37, 54, 48, 24,  4],\n",
       "        [55, 26, 21, 13, 38],\n",
       "        [59, 45, 35, 49,  6]]])"
      ]
     },
     "execution_count": 54,
     "metadata": {},
     "output_type": "execute_result"
    }
   ],
   "source": [
    "array_2 = np.random.randint(1,60, (3,4,5))\n",
    "array_2"
   ]
  },
  {
   "cell_type": "code",
   "execution_count": 57,
   "metadata": {},
   "outputs": [
    {
     "data": {
      "text/plain": [
       "array([[17, 22,  5, 30, 26],\n",
       "       [13, 57, 32, 13, 29],\n",
       "       [40,  9, 26, 34, 50],\n",
       "       [50, 10, 16,  5, 49],\n",
       "       [54, 39,  2, 36, 53],\n",
       "       [ 4, 28, 43, 20, 12],\n",
       "       [ 7, 59, 48,  6, 30],\n",
       "       [10, 23, 11, 31, 54],\n",
       "       [35, 17, 25, 44, 36],\n",
       "       [37, 54, 48, 24,  4],\n",
       "       [55, 26, 21, 13, 38],\n",
       "       [59, 45, 35, 49,  6]])"
      ]
     },
     "execution_count": 57,
     "metadata": {},
     "output_type": "execute_result"
    }
   ],
   "source": [
    "reshaped_2 = np.reshape(array_2, (12,5))\n",
    "reshaped_2"
   ]
  },
  {
   "cell_type": "markdown",
   "metadata": {},
   "source": [
    "#### 3. Crea un array 3D de forma (4, 3, 2) con valores aleatorios entre 0 y 1. Utiliza reshape para convertirlo en un array 2D (Miriam)"
   ]
  },
  {
   "cell_type": "code",
   "execution_count": null,
   "metadata": {},
   "outputs": [],
   "source": []
  },
  {
   "cell_type": "markdown",
   "metadata": {},
   "source": [
    "#### 4. Utiliza el array 3D del ejercicio 2 de reshape. Utiliza transpose para permutar los ejes y obtener un nuevo array con forma (5, 4, 3) (Elena)"
   ]
  },
  {
   "cell_type": "code",
   "execution_count": 58,
   "metadata": {},
   "outputs": [
    {
     "data": {
      "text/plain": [
       "array([[[17, 22,  5, 30, 26],\n",
       "        [13, 57, 32, 13, 29],\n",
       "        [40,  9, 26, 34, 50],\n",
       "        [50, 10, 16,  5, 49]],\n",
       "\n",
       "       [[54, 39,  2, 36, 53],\n",
       "        [ 4, 28, 43, 20, 12],\n",
       "        [ 7, 59, 48,  6, 30],\n",
       "        [10, 23, 11, 31, 54]],\n",
       "\n",
       "       [[35, 17, 25, 44, 36],\n",
       "        [37, 54, 48, 24,  4],\n",
       "        [55, 26, 21, 13, 38],\n",
       "        [59, 45, 35, 49,  6]]])"
      ]
     },
     "execution_count": 58,
     "metadata": {},
     "output_type": "execute_result"
    }
   ],
   "source": [
    "array_2 ##dimensión: 3, 4, 5"
   ]
  },
  {
   "cell_type": "code",
   "execution_count": 59,
   "metadata": {},
   "outputs": [
    {
     "data": {
      "text/plain": [
       "array([[[17, 54, 35],\n",
       "        [13,  4, 37],\n",
       "        [40,  7, 55],\n",
       "        [50, 10, 59]],\n",
       "\n",
       "       [[22, 39, 17],\n",
       "        [57, 28, 54],\n",
       "        [ 9, 59, 26],\n",
       "        [10, 23, 45]],\n",
       "\n",
       "       [[ 5,  2, 25],\n",
       "        [32, 43, 48],\n",
       "        [26, 48, 21],\n",
       "        [16, 11, 35]],\n",
       "\n",
       "       [[30, 36, 44],\n",
       "        [13, 20, 24],\n",
       "        [34,  6, 13],\n",
       "        [ 5, 31, 49]],\n",
       "\n",
       "       [[26, 53, 36],\n",
       "        [29, 12,  4],\n",
       "        [50, 30, 38],\n",
       "        [49, 54,  6]]])"
      ]
     },
     "execution_count": 59,
     "metadata": {},
     "output_type": "execute_result"
    }
   ],
   "source": [
    "np.transpose(array_2) #Devuelve 5, 4, 3"
   ]
  },
  {
   "cell_type": "markdown",
   "metadata": {},
   "source": [
    "#### 5. Utiliza el array 3D del ejercicio 3 de reshape. Utiliza transpose para cambiar el orden de los ejes y obtener un nuevo array con forma (3, 2, 4) (Miriam)"
   ]
  },
  {
   "cell_type": "code",
   "execution_count": null,
   "metadata": {},
   "outputs": [],
   "source": []
  },
  {
   "cell_type": "markdown",
   "metadata": {},
   "source": [
    "# Teóricas"
   ]
  },
  {
   "cell_type": "markdown",
   "metadata": {},
   "source": [
    "#### 6. ¿Qué diferencia existe entre el reshape y el transpose? (Miriam)"
   ]
  },
  {
   "cell_type": "code",
   "execution_count": null,
   "metadata": {},
   "outputs": [],
   "source": []
  },
  {
   "cell_type": "markdown",
   "metadata": {},
   "source": [
    "#### 7. ¿Y entre el transpose y el swapaxes?  (Elena)"
   ]
  },
  {
   "cell_type": "code",
   "execution_count": 66,
   "metadata": {},
   "outputs": [],
   "source": [
    "#Swapaxes permite intercambiar los ejes de un array. Y tranpsose permite cambiar el orden de los ejes como se quiera"
   ]
  },
  {
   "cell_type": "markdown",
   "metadata": {},
   "source": [
    "# Funciones y estadística"
   ]
  },
  {
   "cell_type": "markdown",
   "metadata": {},
   "source": [
    "#### 1. Crea un array de tres 3D con elementos entre el 0 y 1 de forma (2, 3, 5) cuyos valores solo tengan 1 decimal. (Miriam)"
   ]
  },
  {
   "cell_type": "code",
   "execution_count": null,
   "metadata": {},
   "outputs": [],
   "source": []
  },
  {
   "cell_type": "markdown",
   "metadata": {},
   "source": [
    "#### 2. Crea un array vacío con la misma forma y dimensiones que el array creado anteriormente. Vamos a reemplazar los valores de la matriz vacía que nos acabamos de crear pero basándonos en los valores del primer array bajo las siguientes condiciones\n",
    "- Si el valor del array es igual que la media, se reemplaza por \"A\".\n",
    "- Si el valor del array es mayor que la media, se reemplaza por \"B\".\n",
    "- Si el valor del array es menor que la media, se reemplaza por \"C\".\n",
    "- Si el valor es igual que el máximo, se reemplaza por \"D\".\n",
    "- Si el valor es igual que el mínimo, se reemplaza por \"E\"."
   ]
  },
  {
   "cell_type": "code",
   "execution_count": 72,
   "metadata": {},
   "outputs": [
    {
     "data": {
      "text/plain": [
       "array([[[4.67977167e-310, 0.00000000e+000, 0.00000000e+000,\n",
       "         0.00000000e+000, 6.89882052e-310],\n",
       "        [5.02034658e+175, 1.05183075e-046, 5.88172232e-062,\n",
       "         1.84638478e-076, 2.64268614e+180],\n",
       "        [1.04806398e-042, 2.16385130e+190, 1.94918964e-153,\n",
       "         4.90838520e+252, 1.30304358e-142]],\n",
       "\n",
       "       [[1.06396443e+224, 1.46901661e+179, 1.04917933e-153,\n",
       "         9.08366793e+223, 1.05183075e-046],\n",
       "        [5.88172232e-062, 1.84638478e-076, 2.64268614e+180,\n",
       "         1.04917696e-153, 1.94918966e-153],\n",
       "        [9.72158982e-072, 1.48330801e-071, 5.05804714e-038,\n",
       "         2.59027896e-144, 7.79952704e-143]]])"
      ]
     },
     "execution_count": 72,
     "metadata": {},
     "output_type": "execute_result"
    }
   ],
   "source": [
    "array_ultimo = np.empty((2,3,5))\n",
    "array_ultimo"
   ]
  },
  {
   "cell_type": "code",
   "execution_count": 87,
   "metadata": {},
   "outputs": [
    {
     "data": {
      "text/plain": [
       "1.6361284003330696e+251"
      ]
     },
     "execution_count": 87,
     "metadata": {},
     "output_type": "execute_result"
    }
   ],
   "source": [
    "media = np.mean(array_ultimo)\n",
    "media"
   ]
  },
  {
   "cell_type": "code",
   "execution_count": 84,
   "metadata": {},
   "outputs": [
    {
     "data": {
      "text/plain": [
       "array([[['4.6797716651793e-310', '0.0', '0.0', '0.0',\n",
       "         '6.8988205160072e-310'],\n",
       "        ['5.020346578198683e+175', '1.0518307477218933e-46',\n",
       "         '5.881722320455348e-62', '1.8463847793898974e-76',\n",
       "         '2.6426861409021448e+180'],\n",
       "        ['1.0480639756145421e-42', '2.163851297410559e+190',\n",
       "         '1.9491896422031877e-153', '4.9083852009992084e+252',\n",
       "         '1.3030435793939972e-142']],\n",
       "\n",
       "       [['1.063964430317807e+224', '1.4690166124022477e+179',\n",
       "         '1.0491793330286782e-153', '9.083667925815433e+223',\n",
       "         '1.0518307477218933e-46'],\n",
       "        ['5.881722320455348e-62', '1.8463847793898974e-76',\n",
       "         '2.6426861409021448e+180', '1.049176963488146e-153',\n",
       "         '1.949189659567389e-153'],\n",
       "        ['9.721589820707176e-72', '1.4833080050797415e-71',\n",
       "         '5.058047136452858e-38', '2.5902789599218684e-144',\n",
       "         '7.799527044147088e-143']]], dtype='<U32')"
      ]
     },
     "execution_count": 84,
     "metadata": {},
     "output_type": "execute_result"
    }
   ],
   "source": [
    "#Si el valor del array es igual que la media, se reemplaza por \"A\"\n",
    "np.where(array_ultimo == media, \"A\", array_ultimo)"
   ]
  },
  {
   "cell_type": "code",
   "execution_count": 86,
   "metadata": {},
   "outputs": [
    {
     "data": {
      "text/plain": [
       "array([[['B', 'B', 'B', 'B', 'B'],\n",
       "        ['B', 'B', 'B', 'B', 'B'],\n",
       "        ['B', 'B', 'B', '4.9083852009992084e+252', 'B']],\n",
       "\n",
       "       [['B', 'B', 'B', 'B', 'B'],\n",
       "        ['B', 'B', 'B', 'B', 'B'],\n",
       "        ['B', 'B', 'B', 'B', 'B']]], dtype='<U32')"
      ]
     },
     "execution_count": 86,
     "metadata": {},
     "output_type": "execute_result"
    }
   ],
   "source": [
    "# Si el valor del array es mayor que la media, se reemplaza por \"B\"\n",
    "np.where(array_ultimo <  media, \"B\", array_ultimo)"
   ]
  },
  {
   "cell_type": "code",
   "execution_count": 85,
   "metadata": {},
   "outputs": [
    {
     "data": {
      "text/plain": [
       "array([[['4.6797716651793e-310', '0.0', '0.0', '0.0',\n",
       "         '6.8988205160072e-310'],\n",
       "        ['5.020346578198683e+175', '1.0518307477218933e-46',\n",
       "         '5.881722320455348e-62', '1.8463847793898974e-76',\n",
       "         '2.6426861409021448e+180'],\n",
       "        ['1.0480639756145421e-42', '2.163851297410559e+190',\n",
       "         '1.9491896422031877e-153', 'C', '1.3030435793939972e-142']],\n",
       "\n",
       "       [['1.063964430317807e+224', '1.4690166124022477e+179',\n",
       "         '1.0491793330286782e-153', '9.083667925815433e+223',\n",
       "         '1.0518307477218933e-46'],\n",
       "        ['5.881722320455348e-62', '1.8463847793898974e-76',\n",
       "         '2.6426861409021448e+180', '1.049176963488146e-153',\n",
       "         '1.949189659567389e-153'],\n",
       "        ['9.721589820707176e-72', '1.4833080050797415e-71',\n",
       "         '5.058047136452858e-38', '2.5902789599218684e-144',\n",
       "         '7.799527044147088e-143']]], dtype='<U32')"
      ]
     },
     "execution_count": 85,
     "metadata": {},
     "output_type": "execute_result"
    }
   ],
   "source": [
    "# Si el valor del array es menor que la media, se reemplaza por \"C\"\n",
    "np.where(array_ultimo > media, \"C\", array_ultimo)"
   ]
  },
  {
   "cell_type": "code",
   "execution_count": 91,
   "metadata": {},
   "outputs": [
    {
     "data": {
      "text/plain": [
       "4.9083852009992084e+252"
      ]
     },
     "execution_count": 91,
     "metadata": {},
     "output_type": "execute_result"
    }
   ],
   "source": [
    "# Si el valor es igual que el máximo, se reemplaza por \"D\"\n",
    "maximo = np.max(array_ultimo)\n",
    "maximo"
   ]
  },
  {
   "cell_type": "code",
   "execution_count": 90,
   "metadata": {},
   "outputs": [
    {
     "data": {
      "text/plain": [
       "array([[['4.6797716651793e-310', '0.0', '0.0', '0.0',\n",
       "         '6.8988205160072e-310'],\n",
       "        ['5.020346578198683e+175', '1.0518307477218933e-46',\n",
       "         '5.881722320455348e-62', '1.8463847793898974e-76',\n",
       "         '2.6426861409021448e+180'],\n",
       "        ['1.0480639756145421e-42', '2.163851297410559e+190',\n",
       "         '1.9491896422031877e-153', 'D', '1.3030435793939972e-142']],\n",
       "\n",
       "       [['1.063964430317807e+224', '1.4690166124022477e+179',\n",
       "         '1.0491793330286782e-153', '9.083667925815433e+223',\n",
       "         '1.0518307477218933e-46'],\n",
       "        ['5.881722320455348e-62', '1.8463847793898974e-76',\n",
       "         '2.6426861409021448e+180', '1.049176963488146e-153',\n",
       "         '1.949189659567389e-153'],\n",
       "        ['9.721589820707176e-72', '1.4833080050797415e-71',\n",
       "         '5.058047136452858e-38', '2.5902789599218684e-144',\n",
       "         '7.799527044147088e-143']]], dtype='<U32')"
      ]
     },
     "execution_count": 90,
     "metadata": {},
     "output_type": "execute_result"
    }
   ],
   "source": [
    "np.where(array_ultimo == maximo, \"D\", array_ultimo)"
   ]
  },
  {
   "cell_type": "code",
   "execution_count": 93,
   "metadata": {},
   "outputs": [
    {
     "data": {
      "text/plain": [
       "0.0"
      ]
     },
     "execution_count": 93,
     "metadata": {},
     "output_type": "execute_result"
    }
   ],
   "source": [
    "#Si el valor es igual que el mínimo, se reemplaza por \"E\"\n",
    "\n",
    "minimo= np.min(array_ultimo)\n",
    "minimo"
   ]
  },
  {
   "cell_type": "code",
   "execution_count": 94,
   "metadata": {},
   "outputs": [
    {
     "data": {
      "text/plain": [
       "array([[['4.6797716651793e-310', 'E', 'E', 'E', '6.8988205160072e-310'],\n",
       "        ['5.020346578198683e+175', '1.0518307477218933e-46',\n",
       "         '5.881722320455348e-62', '1.8463847793898974e-76',\n",
       "         '2.6426861409021448e+180'],\n",
       "        ['1.0480639756145421e-42', '2.163851297410559e+190',\n",
       "         '1.9491896422031877e-153', '4.9083852009992084e+252',\n",
       "         '1.3030435793939972e-142']],\n",
       "\n",
       "       [['1.063964430317807e+224', '1.4690166124022477e+179',\n",
       "         '1.0491793330286782e-153', '9.083667925815433e+223',\n",
       "         '1.0518307477218933e-46'],\n",
       "        ['5.881722320455348e-62', '1.8463847793898974e-76',\n",
       "         '2.6426861409021448e+180', '1.049176963488146e-153',\n",
       "         '1.949189659567389e-153'],\n",
       "        ['9.721589820707176e-72', '1.4833080050797415e-71',\n",
       "         '5.058047136452858e-38', '2.5902789599218684e-144',\n",
       "         '7.799527044147088e-143']]], dtype='<U32')"
      ]
     },
     "execution_count": 94,
     "metadata": {},
     "output_type": "execute_result"
    }
   ],
   "source": [
    "np.where(array_ultimo == minimo, \"E\", array_ultimo)"
   ]
  }
 ],
 "metadata": {
  "kernelspec": {
   "display_name": "base",
   "language": "python",
   "name": "python3"
  },
  "language_info": {
   "codemirror_mode": {
    "name": "ipython",
    "version": 3
   },
   "file_extension": ".py",
   "mimetype": "text/x-python",
   "name": "python",
   "nbconvert_exporter": "python",
   "pygments_lexer": "ipython3",
   "version": "3.9.7"
  }
 },
 "nbformat": 4,
 "nbformat_minor": 2
}
