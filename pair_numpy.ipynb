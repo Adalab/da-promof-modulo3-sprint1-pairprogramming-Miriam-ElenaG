{
 "cells": [
  {
   "cell_type": "code",
   "execution_count": 2,
   "metadata": {},
   "outputs": [
    {
     "name": "stdout",
     "output_type": "stream",
     "text": [
      "Requirement already satisfied: numpy in /home/miriam/anaconda3/lib/python3.9/site-packages (1.20.3)\n"
     ]
    }
   ],
   "source": [
    "!pip install numpy\n"
   ]
  },
  {
   "cell_type": "code",
   "execution_count": 3,
   "metadata": {},
   "outputs": [],
   "source": [
    "import numpy as np"
   ]
  },
  {
   "cell_type": "markdown",
   "metadata": {},
   "source": [
    "# CREACIÓN E INDEXACIÓN"
   ]
  },
  {
   "cell_type": "markdown",
   "metadata": {},
   "source": [
    "#### 1. Crea un array 1D con 50 valores aleatorio del 10 al 99. Accede a los elementos en las posiciones múltiplos de 5"
   ]
  },
  {
   "cell_type": "code",
   "execution_count": 4,
   "metadata": {},
   "outputs": [
    {
     "data": {
      "text/plain": [
       "array([36, 77, 85, 45, 64, 59, 23, 89, 85, 74, 84, 23, 59, 38, 52, 60, 32,\n",
       "       32, 42, 12, 72, 28, 34, 66, 28, 30, 77, 34, 44, 39, 71, 69, 27, 82,\n",
       "       39, 77, 44, 29, 68, 32, 16, 78, 79, 47, 35, 62, 55, 66, 68, 63])"
      ]
     },
     "execution_count": 4,
     "metadata": {},
     "output_type": "execute_result"
    }
   ],
   "source": [
    "array1 = np.random.randint (10, 99, 50, int)\n",
    "array1"
   ]
  },
  {
   "cell_type": "code",
   "execution_count": 5,
   "metadata": {},
   "outputs": [
    {
     "data": {
      "text/plain": [
       "array([59, 84, 60, 72, 30, 71, 77, 16, 62])"
      ]
     },
     "execution_count": 5,
     "metadata": {},
     "output_type": "execute_result"
    }
   ],
   "source": [
    "array1[5::5]"
   ]
  },
  {
   "cell_type": "markdown",
   "metadata": {},
   "source": [
    "#### 2. Crea un array 1D con 30 valores del 1 al 20 (ambos incluidos). Utiliza indexación para obtener los elementos en las posiciones impares"
   ]
  },
  {
   "cell_type": "code",
   "execution_count": 6,
   "metadata": {},
   "outputs": [
    {
     "data": {
      "text/plain": [
       "array([10, 16,  1,  5, 18,  5, 20, 12, 12, 13, 11, 17,  9,  7, 17, 16, 10,\n",
       "        3, 11, 19, 13,  1,  7,  3, 17,  3,  5, 12,  1,  9])"
      ]
     },
     "execution_count": 6,
     "metadata": {},
     "output_type": "execute_result"
    }
   ],
   "source": [
    "array2 = np.random.randint (1, 21, 30, int)\n",
    "array2"
   ]
  },
  {
   "cell_type": "code",
   "execution_count": 7,
   "metadata": {},
   "outputs": [
    {
     "data": {
      "text/plain": [
       "array([16,  5,  5, 12, 13, 17,  7, 16,  3, 19,  1,  3,  3, 12,  9])"
      ]
     },
     "execution_count": 7,
     "metadata": {},
     "output_type": "execute_result"
    }
   ],
   "source": [
    "array2[1::2]"
   ]
  },
  {
   "cell_type": "markdown",
   "metadata": {},
   "source": [
    "#### 3. Crea un array 2D de forma (4, 6) con números aleatorios decimales (no deben estar comprendidos solo entre 0 y 1). Accede a la última fila de la matriz. Los decimales deben estar redondeados a 2 decimales"
   ]
  },
  {
   "cell_type": "code",
   "execution_count": 8,
   "metadata": {},
   "outputs": [
    {
     "data": {
      "text/plain": [
       "array([[ 9,  4,  1, 10,  8, 12],\n",
       "       [ 4, 15, 10,  6, 17, 19],\n",
       "       [ 8,  3,  7,  5,  8, 16],\n",
       "       [ 5, 10, 14, 11,  4, 15]])"
      ]
     },
     "execution_count": 8,
     "metadata": {},
     "output_type": "execute_result"
    }
   ],
   "source": [
    "# Puesto que no hay un código directo para crear un array de nros aleatorios decimales, lo podemos hacer de 2 formas: \n",
    "\n",
    "# Opción 1: Creamos 2 matrices: una con números enteros y otra con decimales y las sumamos -\n",
    "enteros = np.random.randint(0, 20, (4,6))\n",
    "enteros"
   ]
  },
  {
   "cell_type": "code",
   "execution_count": 9,
   "metadata": {},
   "outputs": [
    {
     "data": {
      "text/plain": [
       "array([[0.1231584 , 0.21100993, 0.52608052, 0.0835565 , 0.1408401 ,\n",
       "        0.85973273],\n",
       "       [0.66306303, 0.64593401, 0.6201353 , 0.13952151, 0.55496387,\n",
       "        0.60332921],\n",
       "       [0.18573736, 0.97681748, 0.84879743, 0.59198247, 0.94677252,\n",
       "        0.54778909],\n",
       "       [0.30555842, 0.26607075, 0.48938123, 0.86540506, 0.34611785,\n",
       "        0.85944623]])"
      ]
     },
     "execution_count": 9,
     "metadata": {},
     "output_type": "execute_result"
    }
   ],
   "source": [
    "decimales = np.random.rand(4,6)\n",
    "decimales"
   ]
  },
  {
   "cell_type": "code",
   "execution_count": 10,
   "metadata": {},
   "outputs": [
    {
     "data": {
      "text/plain": [
       "array([[ 9.12,  4.21,  1.53, 10.08,  8.14, 12.86],\n",
       "       [ 4.66, 15.65, 10.62,  6.14, 17.55, 19.6 ],\n",
       "       [ 8.19,  3.98,  7.85,  5.59,  8.95, 16.55],\n",
       "       [ 5.31, 10.27, 14.49, 11.87,  4.35, 15.86]])"
      ]
     },
     "execution_count": 10,
     "metadata": {},
     "output_type": "execute_result"
    }
   ],
   "source": [
    "array3_opcion1=np.add(enteros,decimales)\n",
    "np.round(array3_opcion1,2)"
   ]
  },
  {
   "cell_type": "code",
   "execution_count": 11,
   "metadata": {},
   "outputs": [],
   "source": [
    "# Opción 2: Le sumamos 5 a aca uno de los valores de la matriz de decimales"
   ]
  },
  {
   "cell_type": "code",
   "execution_count": 12,
   "metadata": {},
   "outputs": [],
   "source": [
    "array3_opcion2 = decimales + 5"
   ]
  },
  {
   "cell_type": "code",
   "execution_count": 13,
   "metadata": {},
   "outputs": [
    {
     "data": {
      "text/plain": [
       "array([[5.12, 5.21, 5.53, 5.08, 5.14, 5.86],\n",
       "       [5.66, 5.65, 5.62, 5.14, 5.55, 5.6 ],\n",
       "       [5.19, 5.98, 5.85, 5.59, 5.95, 5.55],\n",
       "       [5.31, 5.27, 5.49, 5.87, 5.35, 5.86]])"
      ]
     },
     "execution_count": 13,
     "metadata": {},
     "output_type": "execute_result"
    }
   ],
   "source": [
    "np.round(array3_opcion2,2)"
   ]
  },
  {
   "cell_type": "markdown",
   "metadata": {},
   "source": [
    "#### 4. Crea un array NumPy 2D de forma (6, 4) con valores decimales entre 0 y 1. Accede a la segunda columna de la matriz. Los números deben estar redondeados a 2 decimales"
   ]
  },
  {
   "cell_type": "code",
   "execution_count": 14,
   "metadata": {},
   "outputs": [
    {
     "data": {
      "text/plain": [
       "array([[0.55264826, 0.30957543, 0.42982397, 0.57982383],\n",
       "       [0.71123896, 0.46069032, 0.08009641, 0.80067561],\n",
       "       [0.89713631, 0.23390372, 0.95544769, 0.43975316],\n",
       "       [0.35224976, 0.0095926 , 0.58956051, 0.75115467],\n",
       "       [0.00315068, 0.58327513, 0.85656592, 0.35084971],\n",
       "       [0.66199879, 0.5669285 , 0.59370082, 0.21665936]])"
      ]
     },
     "execution_count": 14,
     "metadata": {},
     "output_type": "execute_result"
    }
   ],
   "source": [
    "array4 = np.random.rand(6,4)\n",
    "array4"
   ]
  },
  {
   "cell_type": "code",
   "execution_count": 15,
   "metadata": {},
   "outputs": [
    {
     "data": {
      "text/plain": [
       "array([0.31, 0.46, 0.23, 0.01, 0.58, 0.57])"
      ]
     },
     "execution_count": 15,
     "metadata": {},
     "output_type": "execute_result"
    }
   ],
   "source": [
    "np.round(array4[:,1],2) "
   ]
  },
  {
   "cell_type": "markdown",
   "metadata": {},
   "source": [
    "#### 5. Crea un array 1D con 30 valores enteros aleatorios entre -50 y 50. Extrae los valores negativos (Miriam)"
   ]
  },
  {
   "cell_type": "code",
   "execution_count": 16,
   "metadata": {},
   "outputs": [
    {
     "data": {
      "text/plain": [
       "array([ -4,  21,  32,  25,  15, -39, -24, -11, -37, -47, -24,   6, -45,\n",
       "       -27,  47, -20, -34, -44,  29,  24, -29, -42,   9,  31,  16,  21,\n",
       "        29,  43, -50, -24])"
      ]
     },
     "execution_count": 16,
     "metadata": {},
     "output_type": "execute_result"
    }
   ],
   "source": [
    "array5 = np.random.randint(-50, 50, 30)\n",
    "array5"
   ]
  },
  {
   "cell_type": "code",
   "execution_count": 17,
   "metadata": {},
   "outputs": [
    {
     "data": {
      "text/plain": [
       "array([ True, False, False, False, False,  True,  True,  True,  True,\n",
       "        True,  True, False,  True,  True, False,  True,  True,  True,\n",
       "       False, False,  True,  True, False, False, False, False, False,\n",
       "       False,  True,  True])"
      ]
     },
     "execution_count": 17,
     "metadata": {},
     "output_type": "execute_result"
    }
   ],
   "source": [
    "resultado5 = np.where(array5 < 0, True, False)\n",
    "\n",
    "resultado5"
   ]
  },
  {
   "cell_type": "markdown",
   "metadata": {},
   "source": [
    "#### 6. Crea un array 1D con 10 valores entre 0 y 1. Redondea los decimales a 2. Obtén los elementos cuyo valor es mayor que 0.5. ¿En que posición/es están esos elementos? (Elena)\n"
   ]
  },
  {
   "cell_type": "code",
   "execution_count": 18,
   "metadata": {},
   "outputs": [
    {
     "data": {
      "text/plain": [
       "array([0.86, 0.  , 0.85, 0.28, 0.47, 0.54, 0.9 , 0.21, 0.84, 0.03])"
      ]
     },
     "execution_count": 18,
     "metadata": {},
     "output_type": "execute_result"
    }
   ],
   "source": [
    "array6 = np.round(np.random.rand(10),2)\n",
    "array6"
   ]
  },
  {
   "cell_type": "code",
   "execution_count": 19,
   "metadata": {},
   "outputs": [
    {
     "data": {
      "text/plain": [
       "(array([0, 2, 5, 6, 8]),)"
      ]
     },
     "execution_count": 19,
     "metadata": {},
     "output_type": "execute_result"
    }
   ],
   "source": [
    "np.where(array6>0.5) #Lo que nos devuelve es un array de nros, en el que cada nro es la posición del valor en el array 6 donde se cumple la condición de que el valor sea superior a 0.5"
   ]
  },
  {
   "cell_type": "markdown",
   "metadata": {},
   "source": [
    "#### 7. Crea un array 1D con 40 valores del 1 al 100 (ambos incluidos). Obtén los elementos que son divisibles por 3 y por 4 (Miriam)"
   ]
  },
  {
   "cell_type": "code",
   "execution_count": 36,
   "metadata": {},
   "outputs": [
    {
     "data": {
      "text/plain": [
       "array([51, 24, 96, 51,  1,  4, 85, 29, 10, 96, 48, 40, 56, 59, 78, 26, 13,\n",
       "       68, 30,  1, 56, 74, 23, 74, 96, 62, 11, 71, 95, 43, 27, 70,  8, 63,\n",
       "       38, 48, 45, 46,  2, 83])"
      ]
     },
     "execution_count": 36,
     "metadata": {},
     "output_type": "execute_result"
    }
   ],
   "source": [
    "array7 = np.random.randint(0, 101, 40)\n",
    "array7"
   ]
  },
  {
   "cell_type": "code",
   "execution_count": 40,
   "metadata": {},
   "outputs": [
    {
     "data": {
      "text/plain": [
       "[array([False,  True,  True, False, False, False, False, False, False,\n",
       "         True,  True, False, False, False, False, False, False, False,\n",
       "        False, False, False, False, False, False,  True, False, False,\n",
       "        False, False, False, False, False, False, False, False,  True,\n",
       "        False, False, False, False])]"
      ]
     },
     "execution_count": 40,
     "metadata": {},
     "output_type": "execute_result"
    }
   ],
   "source": [
    "array_div = [(array7 % 3 == 0) & (array7 % 4 == 0)]\n",
    "array_div\n"
   ]
  },
  {
   "cell_type": "code",
   "execution_count": 41,
   "metadata": {},
   "outputs": [
    {
     "name": "stderr",
     "output_type": "stream",
     "text": [
      "/tmp/ipykernel_13302/2731541633.py:3: FutureWarning: Using a non-tuple sequence for multidimensional indexing is deprecated; use `arr[tuple(seq)]` instead of `arr[seq]`. In the future this will be interpreted as an array index, `arr[np.array(seq)]`, which will result either in an error or a different result.\n",
      "  valores = num[indices]\n"
     ]
    }
   ],
   "source": [
    "num = array7\n",
    "indices = array_div\n",
    "valores = num[indices]"
   ]
  },
  {
   "cell_type": "markdown",
   "metadata": {},
   "source": [
    "#### BONUS: Crea un array 3D de forma (2, 3, 5) y 50 elementos con números enteros entre 0 y 100 (ambos incluidos). Reemplaza los elementos en posiciones múltiplos de 3 por 0 (Elena)"
   ]
  },
  {
   "cell_type": "code",
   "execution_count": 20,
   "metadata": {},
   "outputs": [
    {
     "data": {
      "text/plain": [
       "array([[[ 75,   1,  93,  18, 100],\n",
       "        [ 52,  19,  33,  15,  64],\n",
       "        [ 19,  74,  76,  64,  43]],\n",
       "\n",
       "       [[  4,  14,  80,  12,  50],\n",
       "        [ 57,  53,  18,  92,  24],\n",
       "        [ 89,   1,  93,  70,  26]]])"
      ]
     },
     "execution_count": 20,
     "metadata": {},
     "output_type": "execute_result"
    }
   ],
   "source": [
    "array8 = np.random.randint(0, 101, (2,3,5))\n",
    "array8"
   ]
  },
  {
   "cell_type": "code",
   "execution_count": 21,
   "metadata": {},
   "outputs": [
    {
     "data": {
      "text/plain": [
       "array([[18, 15, 64],\n",
       "       [12, 92, 70]])"
      ]
     },
     "execution_count": 21,
     "metadata": {},
     "output_type": "execute_result"
    }
   ],
   "source": [
    "condición =array8[:,:,3]  #esta sería la condición - me coge los valores que están en las posiciones que son múltiples de 3, es decir, odos los que están en la columna 3\n",
    "condición"
   ]
  },
  {
   "cell_type": "code",
   "execution_count": 33,
   "metadata": {},
   "outputs": [
    {
     "ename": "SyntaxError",
     "evalue": "expression cannot contain assignment, perhaps you meant \"==\"? (3655639500.py, line 1)",
     "output_type": "error",
     "traceback": [
      "\u001b[0;36m  File \u001b[0;32m\"/tmp/ipykernel_13302/3655639500.py\"\u001b[0;36m, line \u001b[0;32m1\u001b[0m\n\u001b[0;31m    np.where([array8==condición]=0, False)  ### NO ME SALE\u001b[0m\n\u001b[0m             ^\u001b[0m\n\u001b[0;31mSyntaxError\u001b[0m\u001b[0;31m:\u001b[0m expression cannot contain assignment, perhaps you meant \"==\"?\n"
     ]
    }
   ],
   "source": [
    "np.where([array8==condición]=0, False)  ### NO ME SALE"
   ]
  },
  {
   "cell_type": "code",
   "execution_count": null,
   "metadata": {},
   "outputs": [
    {
     "data": {
      "text/plain": [
       "array([[[56,  0,  0, 80, 83],\n",
       "        [31, 38, 37, 35,  2],\n",
       "        [ 0, 77,  8, 70,  0]],\n",
       "\n",
       "       [[86,  0,  0, 35, 25],\n",
       "        [ 0,  0, 49,  0, 68],\n",
       "        [76,  0, 52, 10, 65]]])"
      ]
     },
     "execution_count": 37,
     "metadata": {},
     "output_type": "execute_result"
    }
   ],
   "source": [
    "# NOTA: Esto es para los valores que son múltiples de 3 PERO NO LAS POSICIONES\n",
    "np.where(array8%3==0, 0,array8) #Para que me remplace sólo los q son múltiples de 3 pero que deje los otros valores, pongo \"array8\" en la opción de Falso"
   ]
  },
  {
   "cell_type": "markdown",
   "metadata": {},
   "source": [
    "# Reshape y Transpose"
   ]
  },
  {
   "cell_type": "markdown",
   "metadata": {},
   "source": [
    "#### 1. Crea un array 3D de forma (2, 3, 4) con valores aleatorios entre 1 y 100 (ambos inclusive). Utiliza reshape para convertirlo en un array 2D. Deberás pensar en la forma que es correcta para hacer este cambio (Miriam)"
   ]
  },
  {
   "cell_type": "code",
   "execution_count": 25,
   "metadata": {},
   "outputs": [
    {
     "data": {
      "text/plain": [
       "array([[[57,  7, 81, 46],\n",
       "        [30, 42, 64, 74],\n",
       "        [40, 81, 61, 19]],\n",
       "\n",
       "       [[47, 75, 26, 68],\n",
       "        [46,  1, 58, 94],\n",
       "        [74, 67, 60, 40]]])"
      ]
     },
     "execution_count": 25,
     "metadata": {},
     "output_type": "execute_result"
    }
   ],
   "source": [
    "array_1 = np.random.randint(1,101, (2,3,4))\n",
    "array_1\n"
   ]
  },
  {
   "cell_type": "code",
   "execution_count": 28,
   "metadata": {},
   "outputs": [
    {
     "data": {
      "text/plain": [
       "array([[57,  7, 81, 46, 30, 42, 64, 74, 40, 81, 61, 19],\n",
       "       [47, 75, 26, 68, 46,  1, 58, 94, 74, 67, 60, 40]])"
      ]
     },
     "execution_count": 28,
     "metadata": {},
     "output_type": "execute_result"
    }
   ],
   "source": [
    "reshaped_array_1 = np.reshape(array_1, (2,-1))\n",
    "reshaped_array_1"
   ]
  },
  {
   "cell_type": "markdown",
   "metadata": {},
   "source": [
    "#### 2. Crea un array 3D de forma (3, 4, 5) con valores enteros del 1 al 60 (sin incluir). Utiliza reshape para convertirlo en un array 2D (Elena)"
   ]
  },
  {
   "cell_type": "code",
   "execution_count": null,
   "metadata": {},
   "outputs": [
    {
     "data": {
      "text/plain": [
       "array([[[17, 22,  5, 30, 26],\n",
       "        [13, 57, 32, 13, 29],\n",
       "        [40,  9, 26, 34, 50],\n",
       "        [50, 10, 16,  5, 49]],\n",
       "\n",
       "       [[54, 39,  2, 36, 53],\n",
       "        [ 4, 28, 43, 20, 12],\n",
       "        [ 7, 59, 48,  6, 30],\n",
       "        [10, 23, 11, 31, 54]],\n",
       "\n",
       "       [[35, 17, 25, 44, 36],\n",
       "        [37, 54, 48, 24,  4],\n",
       "        [55, 26, 21, 13, 38],\n",
       "        [59, 45, 35, 49,  6]]])"
      ]
     },
     "execution_count": 54,
     "metadata": {},
     "output_type": "execute_result"
    }
   ],
   "source": [
    "array_2 = np.random.randint(1,60, (3,4,5))\n",
    "array_2"
   ]
  },
  {
   "cell_type": "code",
   "execution_count": null,
   "metadata": {},
   "outputs": [
    {
     "data": {
      "text/plain": [
       "array([[17, 22,  5, 30, 26],\n",
       "       [13, 57, 32, 13, 29],\n",
       "       [40,  9, 26, 34, 50],\n",
       "       [50, 10, 16,  5, 49],\n",
       "       [54, 39,  2, 36, 53],\n",
       "       [ 4, 28, 43, 20, 12],\n",
       "       [ 7, 59, 48,  6, 30],\n",
       "       [10, 23, 11, 31, 54],\n",
       "       [35, 17, 25, 44, 36],\n",
       "       [37, 54, 48, 24,  4],\n",
       "       [55, 26, 21, 13, 38],\n",
       "       [59, 45, 35, 49,  6]])"
      ]
     },
     "execution_count": 57,
     "metadata": {},
     "output_type": "execute_result"
    }
   ],
   "source": [
    "reshaped_2 = np.reshape(array_2, (12,5))\n",
    "reshaped_2"
   ]
  },
  {
   "cell_type": "markdown",
   "metadata": {},
   "source": [
    "#### 3. Crea un array 3D de forma (4, 3, 2) con valores aleatorios entre 0 y 1. Utiliza reshape para convertirlo en un array 2D (Miriam)"
   ]
  },
  {
   "cell_type": "code",
   "execution_count": 45,
   "metadata": {},
   "outputs": [
    {
     "data": {
      "text/plain": [
       "array([[[0.58309702, 0.2233085 ],\n",
       "        [0.93130414, 0.38073371],\n",
       "        [0.89013773, 0.77379899]],\n",
       "\n",
       "       [[0.9809233 , 0.93016341],\n",
       "        [0.00857549, 0.36980982],\n",
       "        [0.88679075, 0.48899996]],\n",
       "\n",
       "       [[0.4583387 , 0.96897657],\n",
       "        [0.10104147, 0.02246976],\n",
       "        [0.24148006, 0.42742813]],\n",
       "\n",
       "       [[0.24193437, 0.54476525],\n",
       "        [0.52755672, 0.28231101],\n",
       "        [0.18492797, 0.33356279]]])"
      ]
     },
     "execution_count": 45,
     "metadata": {},
     "output_type": "execute_result"
    }
   ],
   "source": [
    "array_3 = np.random.rand(4, 3, 2)\n",
    "array_3"
   ]
  },
  {
   "cell_type": "code",
   "execution_count": 46,
   "metadata": {},
   "outputs": [
    {
     "data": {
      "text/plain": [
       "array([[0.58309702, 0.2233085 , 0.93130414, 0.38073371, 0.89013773,\n",
       "        0.77379899],\n",
       "       [0.9809233 , 0.93016341, 0.00857549, 0.36980982, 0.88679075,\n",
       "        0.48899996],\n",
       "       [0.4583387 , 0.96897657, 0.10104147, 0.02246976, 0.24148006,\n",
       "        0.42742813],\n",
       "       [0.24193437, 0.54476525, 0.52755672, 0.28231101, 0.18492797,\n",
       "        0.33356279]])"
      ]
     },
     "execution_count": 46,
     "metadata": {},
     "output_type": "execute_result"
    }
   ],
   "source": [
    "array_res = array_3.reshape(4, -1)\n",
    "array_res\n"
   ]
  },
  {
   "cell_type": "markdown",
   "metadata": {},
   "source": [
    "#### 4. Utiliza el array 3D del ejercicio 2 de reshape. Utiliza transpose para permutar los ejes y obtener un nuevo array con forma (5, 4, 3) (Elena)"
   ]
  },
  {
   "cell_type": "code",
   "execution_count": null,
   "metadata": {},
   "outputs": [
    {
     "data": {
      "text/plain": [
       "array([[[17, 22,  5, 30, 26],\n",
       "        [13, 57, 32, 13, 29],\n",
       "        [40,  9, 26, 34, 50],\n",
       "        [50, 10, 16,  5, 49]],\n",
       "\n",
       "       [[54, 39,  2, 36, 53],\n",
       "        [ 4, 28, 43, 20, 12],\n",
       "        [ 7, 59, 48,  6, 30],\n",
       "        [10, 23, 11, 31, 54]],\n",
       "\n",
       "       [[35, 17, 25, 44, 36],\n",
       "        [37, 54, 48, 24,  4],\n",
       "        [55, 26, 21, 13, 38],\n",
       "        [59, 45, 35, 49,  6]]])"
      ]
     },
     "execution_count": 58,
     "metadata": {},
     "output_type": "execute_result"
    }
   ],
   "source": [
    "array_2 ##dimensión: 3, 4, 5"
   ]
  },
  {
   "cell_type": "code",
   "execution_count": null,
   "metadata": {},
   "outputs": [
    {
     "data": {
      "text/plain": [
       "array([[[17, 54, 35],\n",
       "        [13,  4, 37],\n",
       "        [40,  7, 55],\n",
       "        [50, 10, 59]],\n",
       "\n",
       "       [[22, 39, 17],\n",
       "        [57, 28, 54],\n",
       "        [ 9, 59, 26],\n",
       "        [10, 23, 45]],\n",
       "\n",
       "       [[ 5,  2, 25],\n",
       "        [32, 43, 48],\n",
       "        [26, 48, 21],\n",
       "        [16, 11, 35]],\n",
       "\n",
       "       [[30, 36, 44],\n",
       "        [13, 20, 24],\n",
       "        [34,  6, 13],\n",
       "        [ 5, 31, 49]],\n",
       "\n",
       "       [[26, 53, 36],\n",
       "        [29, 12,  4],\n",
       "        [50, 30, 38],\n",
       "        [49, 54,  6]]])"
      ]
     },
     "execution_count": 59,
     "metadata": {},
     "output_type": "execute_result"
    }
   ],
   "source": [
    "np.transpose(array_2) #Devuelve 5, 4, 3"
   ]
  },
  {
   "cell_type": "markdown",
   "metadata": {},
   "source": [
    "#### 5. Utiliza el array 3D del ejercicio 3 de reshape. Utiliza transpose para cambiar el orden de los ejes y obtener un nuevo array con forma (3, 2, 4) (Miriam)"
   ]
  },
  {
   "cell_type": "code",
   "execution_count": 47,
   "metadata": {},
   "outputs": [
    {
     "data": {
      "text/plain": [
       "array([[[0.58309702, 0.2233085 ],\n",
       "        [0.93130414, 0.38073371],\n",
       "        [0.89013773, 0.77379899]],\n",
       "\n",
       "       [[0.9809233 , 0.93016341],\n",
       "        [0.00857549, 0.36980982],\n",
       "        [0.88679075, 0.48899996]],\n",
       "\n",
       "       [[0.4583387 , 0.96897657],\n",
       "        [0.10104147, 0.02246976],\n",
       "        [0.24148006, 0.42742813]],\n",
       "\n",
       "       [[0.24193437, 0.54476525],\n",
       "        [0.52755672, 0.28231101],\n",
       "        [0.18492797, 0.33356279]]])"
      ]
     },
     "execution_count": 47,
     "metadata": {},
     "output_type": "execute_result"
    }
   ],
   "source": [
    "array_3"
   ]
  },
  {
   "cell_type": "markdown",
   "metadata": {},
   "source": [
    "# Teóricas"
   ]
  },
  {
   "cell_type": "markdown",
   "metadata": {},
   "source": [
    "#### 6. ¿Qué diferencia existe entre el reshape y el transpose? (Miriam)"
   ]
  },
  {
   "cell_type": "code",
   "execution_count": null,
   "metadata": {},
   "outputs": [],
   "source": [
    "#reshape se utiliza para cambiar la forma de un array sin cambiar sus datos y transpose se utiliza para cambiar el orden de los ejes ej 1,2,3 a 3,2,1. \n",
    "\n"
   ]
  },
  {
   "cell_type": "markdown",
   "metadata": {},
   "source": [
    "#### 7. ¿Y entre el transpose y el swapaxes?  (Elena)"
   ]
  },
  {
   "cell_type": "code",
   "execution_count": null,
   "metadata": {},
   "outputs": [],
   "source": [
    "#Swapaxes permite intercambiar los ejes de un array. Y tranpsose permite cambiar el orden de los ejes como se quiera"
   ]
  },
  {
   "cell_type": "markdown",
   "metadata": {},
   "source": [
    "# Funciones y estadística"
   ]
  },
  {
   "cell_type": "markdown",
   "metadata": {},
   "source": [
    "#### 1. Crea un array de tres 3D con elementos entre el 0 y 1 de forma (2, 3, 5) cuyos valores solo tengan 1 decimal. (Miriam)"
   ]
  },
  {
   "cell_type": "code",
   "execution_count": 50,
   "metadata": {},
   "outputs": [
    {
     "data": {
      "text/plain": [
       "array([[[0.6, 0.4, 0.7, 0.8, 0.7],\n",
       "        [0.2, 0.5, 0.9, 0.7, 0.5],\n",
       "        [1. , 0.5, 0.7, 0.2, 0.6]],\n",
       "\n",
       "       [[0.6, 0.3, 1. , 0.4, 0.1],\n",
       "        [0.6, 0.1, 0.9, 0.6, 0.1],\n",
       "        [0.9, 0.2, 0.9, 0.9, 0.4]]])"
      ]
     },
     "execution_count": 50,
     "metadata": {},
     "output_type": "execute_result"
    }
   ],
   "source": [
    "array1f = np.round(np.random.rand(2, 3, 5), 1)\n",
    "array1f"
   ]
  },
  {
   "cell_type": "markdown",
   "metadata": {},
   "source": [
    "#### 2. Crea un array vacío con la misma forma y dimensiones que el array creado anteriormente. Vamos a reemplazar los valores de la matriz vacía que nos acabamos de crear pero basándonos en los valores del primer array bajo las siguientes condiciones\n",
    "- Si el valor del array es igual que la media, se reemplaza por \"A\".\n",
    "- Si el valor del array es mayor que la media, se reemplaza por \"B\".\n",
    "- Si el valor del array es menor que la media, se reemplaza por \"C\".\n",
    "- Si el valor es igual que el máximo, se reemplaza por \"D\".\n",
    "- Si el valor es igual que el mínimo, se reemplaza por \"E\"."
   ]
  },
  {
   "cell_type": "code",
   "execution_count": null,
   "metadata": {},
   "outputs": [
    {
     "data": {
      "text/plain": [
       "array([[[4.67977167e-310, 0.00000000e+000, 0.00000000e+000,\n",
       "         0.00000000e+000, 6.89882052e-310],\n",
       "        [5.02034658e+175, 1.05183075e-046, 5.88172232e-062,\n",
       "         1.84638478e-076, 2.64268614e+180],\n",
       "        [1.04806398e-042, 2.16385130e+190, 1.94918964e-153,\n",
       "         4.90838520e+252, 1.30304358e-142]],\n",
       "\n",
       "       [[1.06396443e+224, 1.46901661e+179, 1.04917933e-153,\n",
       "         9.08366793e+223, 1.05183075e-046],\n",
       "        [5.88172232e-062, 1.84638478e-076, 2.64268614e+180,\n",
       "         1.04917696e-153, 1.94918966e-153],\n",
       "        [9.72158982e-072, 1.48330801e-071, 5.05804714e-038,\n",
       "         2.59027896e-144, 7.79952704e-143]]])"
      ]
     },
     "execution_count": 72,
     "metadata": {},
     "output_type": "execute_result"
    }
   ],
   "source": [
    "array_ultimo = np.empty((2,3,5))\n",
    "array_ultimo"
   ]
  },
  {
   "cell_type": "code",
   "execution_count": null,
   "metadata": {},
   "outputs": [
    {
     "data": {
      "text/plain": [
       "1.6361284003330696e+251"
      ]
     },
     "execution_count": 87,
     "metadata": {},
     "output_type": "execute_result"
    }
   ],
   "source": [
    "media = np.mean(array_ultimo)\n",
    "media"
   ]
  },
  {
   "cell_type": "code",
   "execution_count": null,
   "metadata": {},
   "outputs": [
    {
     "data": {
      "text/plain": [
       "array([[['4.6797716651793e-310', '0.0', '0.0', '0.0',\n",
       "         '6.8988205160072e-310'],\n",
       "        ['5.020346578198683e+175', '1.0518307477218933e-46',\n",
       "         '5.881722320455348e-62', '1.8463847793898974e-76',\n",
       "         '2.6426861409021448e+180'],\n",
       "        ['1.0480639756145421e-42', '2.163851297410559e+190',\n",
       "         '1.9491896422031877e-153', '4.9083852009992084e+252',\n",
       "         '1.3030435793939972e-142']],\n",
       "\n",
       "       [['1.063964430317807e+224', '1.4690166124022477e+179',\n",
       "         '1.0491793330286782e-153', '9.083667925815433e+223',\n",
       "         '1.0518307477218933e-46'],\n",
       "        ['5.881722320455348e-62', '1.8463847793898974e-76',\n",
       "         '2.6426861409021448e+180', '1.049176963488146e-153',\n",
       "         '1.949189659567389e-153'],\n",
       "        ['9.721589820707176e-72', '1.4833080050797415e-71',\n",
       "         '5.058047136452858e-38', '2.5902789599218684e-144',\n",
       "         '7.799527044147088e-143']]], dtype='<U32')"
      ]
     },
     "execution_count": 84,
     "metadata": {},
     "output_type": "execute_result"
    }
   ],
   "source": [
    "#Si el valor del array es igual que la media, se reemplaza por \"A\"\n",
    "np.where(array_ultimo == media, \"A\", array_ultimo)"
   ]
  },
  {
   "cell_type": "code",
   "execution_count": null,
   "metadata": {},
   "outputs": [
    {
     "data": {
      "text/plain": [
       "array([[['B', 'B', 'B', 'B', 'B'],\n",
       "        ['B', 'B', 'B', 'B', 'B'],\n",
       "        ['B', 'B', 'B', '4.9083852009992084e+252', 'B']],\n",
       "\n",
       "       [['B', 'B', 'B', 'B', 'B'],\n",
       "        ['B', 'B', 'B', 'B', 'B'],\n",
       "        ['B', 'B', 'B', 'B', 'B']]], dtype='<U32')"
      ]
     },
     "execution_count": 86,
     "metadata": {},
     "output_type": "execute_result"
    }
   ],
   "source": [
    "# Si el valor del array es mayor que la media, se reemplaza por \"B\"\n",
    "np.where(array_ultimo <  media, \"B\", array_ultimo)"
   ]
  },
  {
   "cell_type": "code",
   "execution_count": null,
   "metadata": {},
   "outputs": [
    {
     "data": {
      "text/plain": [
       "array([[['4.6797716651793e-310', '0.0', '0.0', '0.0',\n",
       "         '6.8988205160072e-310'],\n",
       "        ['5.020346578198683e+175', '1.0518307477218933e-46',\n",
       "         '5.881722320455348e-62', '1.8463847793898974e-76',\n",
       "         '2.6426861409021448e+180'],\n",
       "        ['1.0480639756145421e-42', '2.163851297410559e+190',\n",
       "         '1.9491896422031877e-153', 'C', '1.3030435793939972e-142']],\n",
       "\n",
       "       [['1.063964430317807e+224', '1.4690166124022477e+179',\n",
       "         '1.0491793330286782e-153', '9.083667925815433e+223',\n",
       "         '1.0518307477218933e-46'],\n",
       "        ['5.881722320455348e-62', '1.8463847793898974e-76',\n",
       "         '2.6426861409021448e+180', '1.049176963488146e-153',\n",
       "         '1.949189659567389e-153'],\n",
       "        ['9.721589820707176e-72', '1.4833080050797415e-71',\n",
       "         '5.058047136452858e-38', '2.5902789599218684e-144',\n",
       "         '7.799527044147088e-143']]], dtype='<U32')"
      ]
     },
     "execution_count": 85,
     "metadata": {},
     "output_type": "execute_result"
    }
   ],
   "source": [
    "# Si el valor del array es menor que la media, se reemplaza por \"C\"\n",
    "np.where(array_ultimo > media, \"C\", array_ultimo)"
   ]
  },
  {
   "cell_type": "code",
   "execution_count": null,
   "metadata": {},
   "outputs": [
    {
     "data": {
      "text/plain": [
       "4.9083852009992084e+252"
      ]
     },
     "execution_count": 91,
     "metadata": {},
     "output_type": "execute_result"
    }
   ],
   "source": [
    "# Si el valor es igual que el máximo, se reemplaza por \"D\"\n",
    "maximo = np.max(array_ultimo)\n",
    "maximo"
   ]
  },
  {
   "cell_type": "code",
   "execution_count": null,
   "metadata": {},
   "outputs": [
    {
     "data": {
      "text/plain": [
       "array([[['4.6797716651793e-310', '0.0', '0.0', '0.0',\n",
       "         '6.8988205160072e-310'],\n",
       "        ['5.020346578198683e+175', '1.0518307477218933e-46',\n",
       "         '5.881722320455348e-62', '1.8463847793898974e-76',\n",
       "         '2.6426861409021448e+180'],\n",
       "        ['1.0480639756145421e-42', '2.163851297410559e+190',\n",
       "         '1.9491896422031877e-153', 'D', '1.3030435793939972e-142']],\n",
       "\n",
       "       [['1.063964430317807e+224', '1.4690166124022477e+179',\n",
       "         '1.0491793330286782e-153', '9.083667925815433e+223',\n",
       "         '1.0518307477218933e-46'],\n",
       "        ['5.881722320455348e-62', '1.8463847793898974e-76',\n",
       "         '2.6426861409021448e+180', '1.049176963488146e-153',\n",
       "         '1.949189659567389e-153'],\n",
       "        ['9.721589820707176e-72', '1.4833080050797415e-71',\n",
       "         '5.058047136452858e-38', '2.5902789599218684e-144',\n",
       "         '7.799527044147088e-143']]], dtype='<U32')"
      ]
     },
     "execution_count": 90,
     "metadata": {},
     "output_type": "execute_result"
    }
   ],
   "source": [
    "np.where(array_ultimo == maximo, \"D\", array_ultimo)"
   ]
  },
  {
   "cell_type": "code",
   "execution_count": null,
   "metadata": {},
   "outputs": [
    {
     "data": {
      "text/plain": [
       "0.0"
      ]
     },
     "execution_count": 93,
     "metadata": {},
     "output_type": "execute_result"
    }
   ],
   "source": [
    "#Si el valor es igual que el mínimo, se reemplaza por \"E\"\n",
    "\n",
    "minimo= np.min(array_ultimo)\n",
    "minimo"
   ]
  },
  {
   "cell_type": "code",
   "execution_count": null,
   "metadata": {},
   "outputs": [
    {
     "data": {
      "text/plain": [
       "array([[['4.6797716651793e-310', 'E', 'E', 'E', '6.8988205160072e-310'],\n",
       "        ['5.020346578198683e+175', '1.0518307477218933e-46',\n",
       "         '5.881722320455348e-62', '1.8463847793898974e-76',\n",
       "         '2.6426861409021448e+180'],\n",
       "        ['1.0480639756145421e-42', '2.163851297410559e+190',\n",
       "         '1.9491896422031877e-153', '4.9083852009992084e+252',\n",
       "         '1.3030435793939972e-142']],\n",
       "\n",
       "       [['1.063964430317807e+224', '1.4690166124022477e+179',\n",
       "         '1.0491793330286782e-153', '9.083667925815433e+223',\n",
       "         '1.0518307477218933e-46'],\n",
       "        ['5.881722320455348e-62', '1.8463847793898974e-76',\n",
       "         '2.6426861409021448e+180', '1.049176963488146e-153',\n",
       "         '1.949189659567389e-153'],\n",
       "        ['9.721589820707176e-72', '1.4833080050797415e-71',\n",
       "         '5.058047136452858e-38', '2.5902789599218684e-144',\n",
       "         '7.799527044147088e-143']]], dtype='<U32')"
      ]
     },
     "execution_count": 94,
     "metadata": {},
     "output_type": "execute_result"
    }
   ],
   "source": [
    "np.where(array_ultimo == minimo, \"E\", array_ultimo)"
   ]
  }
 ],
 "metadata": {
  "kernelspec": {
   "display_name": "base",
   "language": "python",
   "name": "python3"
  },
  "language_info": {
   "codemirror_mode": {
    "name": "ipython",
    "version": 3
   },
   "file_extension": ".py",
   "mimetype": "text/x-python",
   "name": "python",
   "nbconvert_exporter": "python",
   "pygments_lexer": "ipython3",
   "version": "3.9.7"
  }
 },
 "nbformat": 4,
 "nbformat_minor": 2
}
