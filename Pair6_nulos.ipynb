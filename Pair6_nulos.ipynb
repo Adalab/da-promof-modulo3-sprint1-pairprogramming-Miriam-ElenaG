{
 "cells": [
  {
   "cell_type": "code",
   "execution_count": 1,
   "metadata": {},
   "outputs": [],
   "source": [
    "# Importar librerías para manipulación y análisis de datos\n",
    "# -----------------------------------------------------------------------\n",
    "import pandas as pd\n",
    "from pandas import DataFrame\n",
    "import numpy as np\n",
    "pd.set_option('display.max_columns', None)  # Establece una opción de Pandas para mostrar todas las columnas de un DataFrame.\n",
    "\n",
    "# Imputación de nulos usando métodos avanzados estadísticos\n",
    "# -----------------------------------------------------------------------\n",
    "from sklearn.impute import SimpleImputer\n",
    "from sklearn.experimental import enable_iterative_imputer\n",
    "from sklearn.impute import IterativeImputer\n",
    "from sklearn.impute import KNNImputer\n",
    "\n",
    "# Librerías de visualización\n",
    "# -----------------------------------------------------------------------\n",
    "import seaborn as sns\n",
    "import matplotlib.pyplot as plt\n",
    "\n",
    "# establece el estilo del fondo de las gráficas como \"whitegrid\". Las gráficas tendrán un fondo blanco con líneas de cuadrícula horizontales y verticales.\n",
    "sns.set_style(\"whitegrid\")\n",
    "\n",
    "# cambiará el esquema de colores predeterminado de Seaborn a uno más oscuro, adecuado para gráficas con fondos claros. \n",
    "sns.set_theme(style=\"dark\")\n",
    "\n",
    "# establece el estilo en Solarize_Lihgt2. \n",
    "plt.style.use('Solarize_Light2')"
   ]
  },
  {
   "cell_type": "code",
   "execution_count": 2,
   "metadata": {},
   "outputs": [],
   "source": [
    "df = pd.read_csv(\"fichero_continentes.csv\", index_col=0)\n",
    "#df.sample(2).T"
   ]
  },
  {
   "cell_type": "code",
   "execution_count": 3,
   "metadata": {},
   "outputs": [],
   "source": [
    "df_original = df.copy()"
   ]
  },
  {
   "cell_type": "code",
   "execution_count": 4,
   "metadata": {},
   "outputs": [
    {
     "name": "stdout",
     "output_type": "stream",
     "text": [
      "<class 'pandas.core.frame.DataFrame'>\n",
      "Int64Index: 195 entries, 0 to 194\n",
      "Data columns (total 36 columns):\n",
      " #   Column                             Non-Null Count  Dtype  \n",
      "---  ------                             --------------  -----  \n",
      " 0   country                            195 non-null    object \n",
      " 1   density                            195 non-null    int64  \n",
      " 2   abbreviation                       188 non-null    object \n",
      " 3   agriculturalland                   188 non-null    float64\n",
      " 4   landarea                           194 non-null    float64\n",
      " 5   armedforcessize                    171 non-null    float64\n",
      " 6   birthrate                          189 non-null    float64\n",
      " 7   callingcode                        194 non-null    float64\n",
      " 8   capital/majorcity                  192 non-null    object \n",
      " 9   co2-emissions                      188 non-null    float64\n",
      " 10  cpi                                178 non-null    float64\n",
      " 11  cpichange                          179 non-null    float64\n",
      " 12  currency-code                      180 non-null    object \n",
      " 13  fertilityrate                      188 non-null    float64\n",
      " 14  forestedarea                       188 non-null    float64\n",
      " 15  gasolineprice                      175 non-null    float64\n",
      " 16  gdp                                193 non-null    float64\n",
      " 17  grossprimaryeducationenrollment    188 non-null    float64\n",
      " 18  grosstertiaryeducationenrollment   183 non-null    float64\n",
      " 19  infantmortality                    189 non-null    float64\n",
      " 20  largestcity                        189 non-null    object \n",
      " 21  lifeexpectancy                     187 non-null    float64\n",
      " 22  maternalmortalityratio             181 non-null    float64\n",
      " 23  minimumwage                        150 non-null    float64\n",
      " 24  officiallanguage                   190 non-null    object \n",
      " 25  outofpockethealthexpenditure       188 non-null    float64\n",
      " 26  physiciansperthousand              188 non-null    float64\n",
      " 27  population                         194 non-null    float64\n",
      " 28  populationlaborforceparticipation  176 non-null    float64\n",
      " 29  taxrevenue                         169 non-null    float64\n",
      " 30  totaltaxrate                       183 non-null    float64\n",
      " 31  unemploymentrate                   176 non-null    float64\n",
      " 32  urban_population                   190 non-null    float64\n",
      " 33  longitud                           194 non-null    float64\n",
      " 34  latitud                            194 non-null    float64\n",
      " 35  continent                          187 non-null    object \n",
      "dtypes: float64(28), int64(1), object(7)\n",
      "memory usage: 56.4+ KB\n"
     ]
    }
   ],
   "source": [
    "df_original.info()"
   ]
  },
  {
   "cell_type": "markdown",
   "metadata": {},
   "source": [
    "#### 1. Identificación de Valores Nulos: Identifica todas las columnas que contengan valores nulos en el DataFrame"
   ]
  },
  {
   "cell_type": "markdown",
   "metadata": {},
   "source": [
    "### Categóricas"
   ]
  },
  {
   "cell_type": "code",
   "execution_count": 6,
   "metadata": {},
   "outputs": [
    {
     "name": "stdout",
     "output_type": "stream",
     "text": [
      "Index(['abbreviation', 'capital/majorcity', 'currency-code', 'largestcity',\n",
      "       'officiallanguage', 'continent'],\n",
      "      dtype='object')\n"
     ]
    }
   ],
   "source": [
    "#Vemos específicamente las categóricas\n",
    "nulos_cat = df_original[df_original.columns[df_original.isnull().any()]].select_dtypes(include = \"O\").columns\n",
    "print(nulos_cat)"
   ]
  },
  {
   "cell_type": "code",
   "execution_count": 7,
   "metadata": {},
   "outputs": [
    {
     "name": "stdout",
     "output_type": "stream",
     "text": [
      "La distribución de las categorías para la columna ABBREVIATION\n"
     ]
    },
    {
     "data": {
      "text/plain": [
       "AF    0.005128\n",
       "PY    0.005128\n",
       "NE    0.005128\n",
       "NG    0.005128\n",
       "KP    0.005128\n",
       "        ...   \n",
       "GR    0.005128\n",
       "GD    0.005128\n",
       "GT    0.005128\n",
       "GN    0.005128\n",
       "ZW    0.005128\n",
       "Name: abbreviation, Length: 188, dtype: float64"
      ]
     },
     "metadata": {},
     "output_type": "display_data"
    },
    {
     "name": "stdout",
     "output_type": "stream",
     "text": [
      "____________\n",
      "La distribución de las categorías para la columna CAPITAL/MAJORCITY\n"
     ]
    },
    {
     "data": {
      "text/plain": [
       "Kabul                    0.005128\n",
       "Tirana                   0.005128\n",
       "Wellington               0.005128\n",
       "Managua                  0.005128\n",
       "Niamey                   0.005128\n",
       "                           ...   \n",
       "Athens                   0.005128\n",
       "St. George's, Grenada    0.005128\n",
       "Guatemala City           0.005128\n",
       "Conakry                  0.005128\n",
       "Harare                   0.005128\n",
       "Name: capital/majorcity, Length: 192, dtype: float64"
      ]
     },
     "metadata": {},
     "output_type": "display_data"
    },
    {
     "name": "stdout",
     "output_type": "stream",
     "text": [
      "____________\n",
      "La distribución de las categorías para la columna CURRENCY-CODE\n"
     ]
    },
    {
     "data": {
      "text/plain": [
       "EUR    0.117949\n",
       "XOF    0.041026\n",
       "XCD    0.030769\n",
       "USD    0.030769\n",
       "XAF    0.025641\n",
       "         ...   \n",
       "GMD    0.005128\n",
       "FJD    0.005128\n",
       "ETB    0.005128\n",
       "ERN    0.005128\n",
       "ZMW    0.005128\n",
       "Name: currency-code, Length: 133, dtype: float64"
      ]
     },
     "metadata": {},
     "output_type": "display_data"
    },
    {
     "name": "stdout",
     "output_type": "stream",
     "text": [
      "____________\n",
      "La distribución de las categorías para la columna LARGESTCITY\n"
     ]
    },
    {
     "data": {
      "text/plain": [
       "S����                    0.010256\n",
       "Panama City              0.005128\n",
       "Managua                  0.005128\n",
       "Niamey                   0.005128\n",
       "Lagos                    0.005128\n",
       "                           ...   \n",
       "Macedonia                0.005128\n",
       "St. George's, Grenada    0.005128\n",
       "Guatemala City           0.005128\n",
       "Kankan                   0.005128\n",
       "Harare                   0.005128\n",
       "Name: largestcity, Length: 188, dtype: float64"
      ]
     },
     "metadata": {},
     "output_type": "display_data"
    },
    {
     "name": "stdout",
     "output_type": "stream",
     "text": [
      "____________\n",
      "La distribución de las categorías para la columna OFFICIALLANGUAGE\n"
     ]
    },
    {
     "data": {
      "text/plain": [
       "English             0.158974\n",
       "French              0.128205\n",
       "Spanish             0.097436\n",
       "Arabic              0.092308\n",
       "Portuguese          0.035897\n",
       "                      ...   \n",
       "Albanian            0.005128\n",
       "Jamaican English    0.005128\n",
       "Lao                 0.005128\n",
       "Latvian             0.005128\n",
       "Shona               0.005128\n",
       "Name: officiallanguage, Length: 76, dtype: float64"
      ]
     },
     "metadata": {},
     "output_type": "display_data"
    },
    {
     "name": "stdout",
     "output_type": "stream",
     "text": [
      "____________\n",
      "La distribución de las categorías para la columna CONTINENT\n"
     ]
    },
    {
     "data": {
      "text/plain": [
       "Africa           0.266667\n",
       "Asia             0.230769\n",
       "Europe           0.215385\n",
       "North America    0.117949\n",
       "Oceania          0.066667\n",
       "South America    0.061538\n",
       "Name: continent, dtype: float64"
      ]
     },
     "metadata": {},
     "output_type": "display_data"
    },
    {
     "name": "stdout",
     "output_type": "stream",
     "text": [
      "____________\n"
     ]
    }
   ],
   "source": [
    "# sacamos el 'value_counts()' de cada una de las columnas categóricas que tienen nulos para saber como es la distribución de sus categorías\n",
    "for col in nulos_cat:\n",
    "    print(f\"La distribución de las categorías para la columna {col.upper()}\")\n",
    "    display(df_original[col].value_counts() / df_original.shape[0])\n",
    "    print(\"____________\")"
   ]
  },
  {
   "cell_type": "markdown",
   "metadata": {},
   "source": [
    "### Numéricas"
   ]
  },
  {
   "cell_type": "code",
   "execution_count": 8,
   "metadata": {},
   "outputs": [
    {
     "name": "stdout",
     "output_type": "stream",
     "text": [
      "Index(['agriculturalland', 'landarea', 'armedforcessize', 'birthrate',\n",
      "       'callingcode', 'co2-emissions', 'cpi', 'cpichange', 'fertilityrate',\n",
      "       'forestedarea', 'gasolineprice', 'gdp',\n",
      "       'grossprimaryeducationenrollment', 'grosstertiaryeducationenrollment',\n",
      "       'infantmortality', 'lifeexpectancy', 'maternalmortalityratio',\n",
      "       'minimumwage', 'outofpockethealthexpenditure', 'physiciansperthousand',\n",
      "       'population', 'populationlaborforceparticipation', 'taxrevenue',\n",
      "       'totaltaxrate', 'unemploymentrate', 'urban_population', 'longitud',\n",
      "       'latitud'],\n",
      "      dtype='object')\n"
     ]
    }
   ],
   "source": [
    "#Columnas numéricas con nulos\n",
    "nulos_num = df_original[df_original.columns[df_original.isnull().any()]].select_dtypes(include = np.number).columns\n",
    "print(nulos_num)\n"
   ]
  },
  {
   "cell_type": "code",
   "execution_count": 9,
   "metadata": {},
   "outputs": [
    {
     "data": {
      "text/html": [
       "<div>\n",
       "<style scoped>\n",
       "    .dataframe tbody tr th:only-of-type {\n",
       "        vertical-align: middle;\n",
       "    }\n",
       "\n",
       "    .dataframe tbody tr th {\n",
       "        vertical-align: top;\n",
       "    }\n",
       "\n",
       "    .dataframe thead th {\n",
       "        text-align: right;\n",
       "    }\n",
       "</style>\n",
       "<table border=\"1\" class=\"dataframe\">\n",
       "  <thead>\n",
       "    <tr style=\"text-align: right;\">\n",
       "      <th></th>\n",
       "      <th>index</th>\n",
       "      <th>0</th>\n",
       "    </tr>\n",
       "  </thead>\n",
       "  <tbody>\n",
       "    <tr>\n",
       "      <th>0</th>\n",
       "      <td>agriculturalland</td>\n",
       "      <td>3.589744</td>\n",
       "    </tr>\n",
       "    <tr>\n",
       "      <th>1</th>\n",
       "      <td>landarea</td>\n",
       "      <td>0.512821</td>\n",
       "    </tr>\n",
       "    <tr>\n",
       "      <th>2</th>\n",
       "      <td>armedforcessize</td>\n",
       "      <td>12.307692</td>\n",
       "    </tr>\n",
       "    <tr>\n",
       "      <th>3</th>\n",
       "      <td>birthrate</td>\n",
       "      <td>3.076923</td>\n",
       "    </tr>\n",
       "    <tr>\n",
       "      <th>4</th>\n",
       "      <td>callingcode</td>\n",
       "      <td>0.512821</td>\n",
       "    </tr>\n",
       "    <tr>\n",
       "      <th>5</th>\n",
       "      <td>co2-emissions</td>\n",
       "      <td>3.589744</td>\n",
       "    </tr>\n",
       "    <tr>\n",
       "      <th>6</th>\n",
       "      <td>cpi</td>\n",
       "      <td>8.717949</td>\n",
       "    </tr>\n",
       "    <tr>\n",
       "      <th>7</th>\n",
       "      <td>cpichange</td>\n",
       "      <td>8.205128</td>\n",
       "    </tr>\n",
       "    <tr>\n",
       "      <th>8</th>\n",
       "      <td>fertilityrate</td>\n",
       "      <td>3.589744</td>\n",
       "    </tr>\n",
       "    <tr>\n",
       "      <th>9</th>\n",
       "      <td>forestedarea</td>\n",
       "      <td>3.589744</td>\n",
       "    </tr>\n",
       "    <tr>\n",
       "      <th>10</th>\n",
       "      <td>gasolineprice</td>\n",
       "      <td>10.256410</td>\n",
       "    </tr>\n",
       "    <tr>\n",
       "      <th>11</th>\n",
       "      <td>gdp</td>\n",
       "      <td>1.025641</td>\n",
       "    </tr>\n",
       "    <tr>\n",
       "      <th>12</th>\n",
       "      <td>grossprimaryeducationenrollment</td>\n",
       "      <td>3.589744</td>\n",
       "    </tr>\n",
       "    <tr>\n",
       "      <th>13</th>\n",
       "      <td>grosstertiaryeducationenrollment</td>\n",
       "      <td>6.153846</td>\n",
       "    </tr>\n",
       "    <tr>\n",
       "      <th>14</th>\n",
       "      <td>infantmortality</td>\n",
       "      <td>3.076923</td>\n",
       "    </tr>\n",
       "    <tr>\n",
       "      <th>15</th>\n",
       "      <td>lifeexpectancy</td>\n",
       "      <td>4.102564</td>\n",
       "    </tr>\n",
       "    <tr>\n",
       "      <th>16</th>\n",
       "      <td>maternalmortalityratio</td>\n",
       "      <td>7.179487</td>\n",
       "    </tr>\n",
       "    <tr>\n",
       "      <th>17</th>\n",
       "      <td>minimumwage</td>\n",
       "      <td>23.076923</td>\n",
       "    </tr>\n",
       "    <tr>\n",
       "      <th>18</th>\n",
       "      <td>outofpockethealthexpenditure</td>\n",
       "      <td>3.589744</td>\n",
       "    </tr>\n",
       "    <tr>\n",
       "      <th>19</th>\n",
       "      <td>physiciansperthousand</td>\n",
       "      <td>3.589744</td>\n",
       "    </tr>\n",
       "    <tr>\n",
       "      <th>20</th>\n",
       "      <td>population</td>\n",
       "      <td>0.512821</td>\n",
       "    </tr>\n",
       "    <tr>\n",
       "      <th>21</th>\n",
       "      <td>populationlaborforceparticipation</td>\n",
       "      <td>9.743590</td>\n",
       "    </tr>\n",
       "    <tr>\n",
       "      <th>22</th>\n",
       "      <td>taxrevenue</td>\n",
       "      <td>13.333333</td>\n",
       "    </tr>\n",
       "    <tr>\n",
       "      <th>23</th>\n",
       "      <td>totaltaxrate</td>\n",
       "      <td>6.153846</td>\n",
       "    </tr>\n",
       "    <tr>\n",
       "      <th>24</th>\n",
       "      <td>unemploymentrate</td>\n",
       "      <td>9.743590</td>\n",
       "    </tr>\n",
       "    <tr>\n",
       "      <th>25</th>\n",
       "      <td>urban_population</td>\n",
       "      <td>2.564103</td>\n",
       "    </tr>\n",
       "    <tr>\n",
       "      <th>26</th>\n",
       "      <td>longitud</td>\n",
       "      <td>0.512821</td>\n",
       "    </tr>\n",
       "    <tr>\n",
       "      <th>27</th>\n",
       "      <td>latitud</td>\n",
       "      <td>0.512821</td>\n",
       "    </tr>\n",
       "  </tbody>\n",
       "</table>\n",
       "</div>"
      ],
      "text/plain": [
       "                                index          0\n",
       "0                    agriculturalland   3.589744\n",
       "1                            landarea   0.512821\n",
       "2                     armedforcessize  12.307692\n",
       "3                           birthrate   3.076923\n",
       "4                         callingcode   0.512821\n",
       "5                       co2-emissions   3.589744\n",
       "6                                 cpi   8.717949\n",
       "7                           cpichange   8.205128\n",
       "8                       fertilityrate   3.589744\n",
       "9                        forestedarea   3.589744\n",
       "10                      gasolineprice  10.256410\n",
       "11                                gdp   1.025641\n",
       "12    grossprimaryeducationenrollment   3.589744\n",
       "13   grosstertiaryeducationenrollment   6.153846\n",
       "14                    infantmortality   3.076923\n",
       "15                     lifeexpectancy   4.102564\n",
       "16             maternalmortalityratio   7.179487\n",
       "17                        minimumwage  23.076923\n",
       "18       outofpockethealthexpenditure   3.589744\n",
       "19              physiciansperthousand   3.589744\n",
       "20                         population   0.512821\n",
       "21  populationlaborforceparticipation   9.743590\n",
       "22                         taxrevenue  13.333333\n",
       "23                       totaltaxrate   6.153846\n",
       "24                   unemploymentrate   9.743590\n",
       "25                   urban_population   2.564103\n",
       "26                           longitud   0.512821\n",
       "27                            latitud   0.512821"
      ]
     },
     "execution_count": 9,
     "metadata": {},
     "output_type": "execute_result"
    }
   ],
   "source": [
    "#% de nulos en las columnas numéricas con nulos\n",
    "nl = (df_original[nulos_num].isnull().sum() / df_original.shape[0]) * 100\n",
    "#nl.sort_values(ascending=False).reset_index()\n",
    "nl.reset_index()"
   ]
  },
  {
   "cell_type": "code",
   "execution_count": null,
   "metadata": {},
   "outputs": [],
   "source": [
    "#OPCIÓN 2 PARA VER % NULOS NUM\n",
    "\n",
    "# #1. Calculamos el % de los nulos en cada columna\n",
    "# (df_original.isnull().sum() / df_original.shape[0]) * 100\n",
    "\n",
    "# #2. Convertimos lo anterior a DataFrame\n",
    "# df_nulos = pd.DataFrame((df_original.isnull().sum() / df_original.shape[0]) * 100, columns = [\"%_nulos\"])\n",
    "\n",
    "# #3. Filtramos el DataFrame para quedarnos solo con aquellas columnas que tengan nulos y los ordenamos de mayor a menor\n",
    "# df_nulos[df_nulos[\"%_nulos\"] > 0].sort_values(by = \"%_nulos\", ascending=False).reset_index() "
   ]
  },
  {
   "cell_type": "markdown",
   "metadata": {},
   "source": [
    "Valores atípicos:\n",
    "landarea, armedforcessize, C02 emissions, cpi, cpichange, gdp, grossprimaryeducationenrollment, maternalmortailyratio, minimumwage, population, totaltaxrate, unemploymentrate, urban_population\n",
    "\n",
    "Muchos nulos (mayor a 9%): KnnImputer o IterativeImputer\n",
    "minimumwage, taxrevenue,gasolineprice, armedforcesize, unemploymentrate, populationlaborforceparticipation,\n",
    "\n",
    "\n",
    "ok (no muchos nulos y no valores atípicos)"
   ]
  },
  {
   "cell_type": "code",
   "execution_count": 10,
   "metadata": {},
   "outputs": [
    {
     "data": {
      "image/png": "[encoded data removed]",
      "text/plain": [
       "<Figure size 1080x3600 with 27 Axes>"
      ]
     },
     "metadata": {},
     "output_type": "display_data"
    }
   ],
   "source": [
    "#Valores atípicos de las columnas numéricas\n",
    "fig, axes = plt.subplots(nrows = 14, ncols = 2, figsize = (15,50)) \n",
    "axes = axes.flat\n",
    "\n",
    "for indice, col in enumerate(nulos_num):\n",
    "    sns.boxplot(x = col, data = df_original, ax = axes[indice])\n",
    "    plt.xlabel(col)  \n",
    "\n",
    "plt.tight_layout()\n",
    "fig.delaxes(axes[-1])\n",
    "plt.show();"
   ]
  },
  {
   "cell_type": "code",
   "execution_count": null,
   "metadata": {},
   "outputs": [],
   "source": [
    "# for col in nulos_num:\n",
    "#     print(f\"La distribución de las categorías para la columna {col.upper()}\")\n",
    "#     display(df_original[col].value_counts() / df_original.shape[0])\n",
    "#     print(\"____________\")"
   ]
  },
  {
   "cell_type": "markdown",
   "metadata": {},
   "source": [
    "#### 2.Selección de Método de Imputación: Discute en tu compañera cuál sería la mejor estrategia para manejar los valores nulos en cada una de las columnas identificadas en el paso anterior"
   ]
  },
  {
   "cell_type": "markdown",
   "metadata": {},
   "source": [
    "Para todas las CATEGÓRICAS, incluímos \"unknown\" en los nulos porque no hay ningún valor \"modal\" - los valores dependen del país (i.e código del país, idioma, lengua, etc)"
   ]
  },
  {
   "cell_type": "markdown",
   "metadata": {},
   "source": [
    "#### 3. Imputación de Valores Nulos: Implementa el método de imputación seleccionado en el paso 2 para llenar los valores nulos en las columna"
   ]
  },
  {
   "cell_type": "markdown",
   "metadata": {},
   "source": [
    "##### Categóricas"
   ]
  },
  {
   "cell_type": "code",
   "execution_count": 11,
   "metadata": {},
   "outputs": [],
   "source": [
    "#1. Definimos las columnas en las que vamos a poner desconocido para los nulos\n",
    "columnas_desconocido = ['abbreviation', 'capital/majorcity', 'currency-code', 'largestcity','officiallanguage', 'continent']"
   ]
  },
  {
   "cell_type": "code",
   "execution_count": 12,
   "metadata": {},
   "outputs": [],
   "source": [
    "#2. Iteramos por las columnas y cambiamos los valores a \"unknown\"\n",
    "for columna in columnas_desconocido:\n",
    "    df_original[columna] = df_original[columna].fillna(\"Unknown\")"
   ]
  },
  {
   "cell_type": "code",
   "execution_count": 13,
   "metadata": {},
   "outputs": [
    {
     "data": {
      "text/plain": [
       "abbreviation         0\n",
       "capital/majorcity    0\n",
       "currency-code        0\n",
       "largestcity          0\n",
       "officiallanguage     0\n",
       "continent            0\n",
       "dtype: int64"
      ]
     },
     "execution_count": 13,
     "metadata": {},
     "output_type": "execute_result"
    }
   ],
   "source": [
    "#3. Comprobamos si quedan nulos en las columnas categóricas -- No hay!! :)\n",
    "df_original[columnas_desconocido].isnull().sum()"
   ]
  },
  {
   "cell_type": "markdown",
   "metadata": {},
   "source": [
    "##### Numéricas"
   ]
  },
  {
   "cell_type": "code",
   "execution_count": 14,
   "metadata": {},
   "outputs": [
    {
     "data": {
      "text/plain": [
       "array([[ 5.8100000e+01,  6.5223000e+05,  3.2300000e+05, ...,\n",
       "         9.7972730e+06,  3.3939110e+01,  6.7709953e+01],\n",
       "       [ 4.3100000e+01,  2.8748000e+04,  9.0000000e+03, ...,\n",
       "         1.7475930e+06,  4.1153332e+01,  2.0168331e+01],\n",
       "       [ 1.7400000e+01,  2.3817410e+06,  3.1700000e+05, ...,\n",
       "         3.1510100e+07,  2.8033886e+01,  1.6596260e+00],\n",
       "       ...,\n",
       "       [ 4.4600000e+01,  5.2796800e+05,  4.0000000e+04, ...,\n",
       "         1.0869523e+07,  1.5552727e+01,  4.8516388e+01],\n",
       "       [ 3.2100000e+01,  7.5261800e+05,  1.6000000e+04, ...,\n",
       "         7.8717130e+06, -1.3133897e+01,  2.7849332e+01],\n",
       "       [ 4.1900000e+01,  3.9075700e+05,  5.1000000e+04, ...,\n",
       "         4.7173050e+06, -1.9015438e+01,  2.9154857e+01]])"
      ]
     },
     "execution_count": 14,
     "metadata": {},
     "output_type": "execute_result"
    }
   ],
   "source": [
    "#ITERATIVE IMPUTER\n",
    "\n",
    "imputer_iterative = IterativeImputer(max_iter =20, random_state=42)\n",
    "imputer_iterative_imputado = imputer_iterative.fit_transform(df_original[['agriculturalland', 'landarea', 'armedforcessize', 'birthrate','callingcode', 'co2-emissions', 'cpi', 'cpichange', 'fertilityrate','forestedarea', 'gasolineprice', 'gdp','grossprimaryeducationenrollment', 'grosstertiaryeducationenrollment','infantmortality', 'lifeexpectancy', 'maternalmortalityratio','minimumwage', 'outofpockethealthexpenditure', 'physiciansperthousand','population', 'populationlaborforceparticipation', 'taxrevenue','totaltaxrate', 'unemploymentrate', 'urban_population', 'longitud','latitud']])\n",
    "imputer_iterative_imputado\n"
   ]
  },
  {
   "cell_type": "code",
   "execution_count": 15,
   "metadata": {},
   "outputs": [],
   "source": [
    "df_original[['agriculturalland_iterativo', 'landarea_iterativo', 'armedforcessize_iterativo', 'birthrate_iterativo', 'callingcode_iterativo', 'co2-emissions_iterativo', 'cpi_iterativo', 'cpichange_iterativo', 'fertilityrate_iterativo', 'forestedarea_iterativo', 'gasolineprice_iterativo', 'gdp_iterativo', 'grossprimaryeducationenrollment_iterativo', 'grosstertiaryeducationenrollment_iterativo', 'infantmortality_iterativo', 'lifeexpectancy_iterativo', 'maternalmortalityratio_iterativo', 'minimumwage_iterativo', 'outofpockethealthexpenditure_iterativo', 'physiciansperthousand_iterativo', 'population_iterativo', 'populationlaborforceparticipation_iterativo', 'taxrevenue_iterativo', 'totaltaxrate_iterativo', 'unemploymentrate_iterativo', 'urban_population_iterativo', 'longitud_iterativo', 'latitud_iterativo']] = imputer_iterative_imputado\n",
    "#df_original[['agriculturalland_iterativo', 'landarea_iterativo', 'armedforcessize_iterativo', 'birthrate_iterativo', 'callingcode_iterativo', 'co2-emissions_iterativo', 'cpi_iterativo', 'cpichange_iterativo', 'fertilityrate_iterativo', 'forestedarea_iterativo', 'gasolineprice_iterativo', 'gdp_iterativo', 'grossprimaryeducationenrollment_iterativo', 'grosstertiaryeducationenrollment_iterativo', 'infantmortality_iterativo', 'lifeexpectancy_iterativo', 'maternalmortalityratio_iterativo', 'minimumwage_iterativo', 'outofpockethealthexpenditure_iterativo', 'physiciansperthousand_iterativo', 'population_iterativo', 'populationlaborforceparticipation_iterativo', 'taxrevenue_iterativo', 'totaltaxrate_iterativo', 'unemploymentrate_iterativo', 'urban_population_iterativo', 'longitud_iterativo', 'latitud_iterativo']].isnull().sum"
   ]
  },
  {
   "cell_type": "code",
   "execution_count": 16,
   "metadata": {},
   "outputs": [
    {
     "name": "stdout",
     "output_type": "stream",
     "text": [
      "['agriculturalland_iterativo', 'landarea_iterativo', 'armedforcessize_iterativo', 'birthrate_iterativo', 'callingcode_iterativo', 'co2-emissions_iterativo', 'cpi_iterativo', 'cpichange_iterativo', 'fertilityrate_iterativo', 'forestedarea_iterativo', 'gasolineprice_iterativo', 'gdp_iterativo', 'grossprimaryeducationenrollment_iterativo', 'grosstertiaryeducationenrollment_iterativo', 'infantmortality_iterativo', 'lifeexpectancy_iterativo', 'maternalmortalityratio_iterativo', 'minimumwage_iterativo', 'outofpockethealthexpenditure_iterativo', 'physiciansperthousand_iterativo', 'population_iterativo', 'populationlaborforceparticipation_iterativo', 'taxrevenue_iterativo', 'totaltaxrate_iterativo', 'unemploymentrate_iterativo', 'urban_population_iterativo', 'longitud_iterativo', 'latitud_iterativo']\n"
     ]
    }
   ],
   "source": [
    "palabras = ['agriculturalland', 'landarea', 'armedforcessize', 'birthrate',\n",
    "            'callingcode', 'co2-emissions', 'cpi', 'cpichange', 'fertilityrate',\n",
    "            'forestedarea', 'gasolineprice', 'gdp',\n",
    "            'grossprimaryeducationenrollment', 'grosstertiaryeducationenrollment',\n",
    "            'infantmortality', 'lifeexpectancy', 'maternalmortalityratio',\n",
    "            'minimumwage', 'outofpockethealthexpenditure', 'physiciansperthousand',\n",
    "            'population', 'populationlaborforceparticipation', 'taxrevenue',\n",
    "            'totaltaxrate', 'unemploymentrate', 'urban_population', 'longitud',\n",
    "            'latitud']\n",
    "\n",
    "palabras_iterativas = [palabra + '_iterativo' for palabra in palabras]\n",
    "\n",
    "print(palabras_iterativas)\n"
   ]
  },
  {
   "cell_type": "code",
   "execution_count": 17,
   "metadata": {},
   "outputs": [
    {
     "data": {
      "text/plain": [
       "array([[ 5.8100000e+01,  6.5223000e+05,  3.2300000e+05, ...,\n",
       "         9.7972730e+06,  3.3939110e+01,  6.7709953e+01],\n",
       "       [ 4.3100000e+01,  2.8748000e+04,  9.0000000e+03, ...,\n",
       "         1.7475930e+06,  4.1153332e+01,  2.0168331e+01],\n",
       "       [ 1.7400000e+01,  2.3817410e+06,  3.1700000e+05, ...,\n",
       "         3.1510100e+07,  2.8033886e+01,  1.6596260e+00],\n",
       "       ...,\n",
       "       [ 4.4600000e+01,  5.2796800e+05,  4.0000000e+04, ...,\n",
       "         1.0869523e+07,  1.5552727e+01,  4.8516388e+01],\n",
       "       [ 3.2100000e+01,  7.5261800e+05,  1.6000000e+04, ...,\n",
       "         7.8717130e+06, -1.3133897e+01,  2.7849332e+01],\n",
       "       [ 4.1900000e+01,  3.9075700e+05,  5.1000000e+04, ...,\n",
       "         4.7173050e+06, -1.9015438e+01,  2.9154857e+01]])"
      ]
     },
     "execution_count": 17,
     "metadata": {},
     "output_type": "execute_result"
    }
   ],
   "source": [
    "#KNNImputer\n",
    "imputer_knn = KNNImputer(n_neighbors=5)\n",
    "imputer_knn_imputado = imputer_knn.fit_transform(df_original[['agriculturalland', 'landarea', 'armedforcessize', 'birthrate','callingcode', 'co2-emissions', 'cpi', 'cpichange', 'fertilityrate','forestedarea', 'gasolineprice', 'gdp','grossprimaryeducationenrollment', 'grosstertiaryeducationenrollment','infantmortality', 'lifeexpectancy', 'maternalmortalityratio','minimumwage', 'outofpockethealthexpenditure', 'physiciansperthousand','population', 'populationlaborforceparticipation', 'taxrevenue','totaltaxrate', 'unemploymentrate', 'urban_population', 'longitud','latitud']])\n",
    "imputer_knn_imputado\n"
   ]
  },
  {
   "cell_type": "code",
   "execution_count": 18,
   "metadata": {},
   "outputs": [],
   "source": [
    "df_original[['agriculturalland_knn', 'landarea_knn', 'armedforcessize_knn', 'birthrate_knn', 'callingcode_knn', 'co2-emissions_knn', 'cpi_knn', 'cpichange_knn', 'fertilityrate_knn', 'forestedarea_knn', 'gasolineprice_knn', 'gdp_knn', 'grossprimaryeducationenrollment_knn', 'grosstertiaryeducationenrollment_knn', 'infantmortality_knn', 'lifeexpectancy_knn', 'maternalmortalityratio_knn', 'minimumwage_knn', 'outofpockethealthexpenditure_knn', 'physiciansperthousand_knn', 'population_knn', 'populationlaborforceparticipation_knn', 'taxrevenue_knn', 'totaltaxrate_knn', 'unemploymentrate_knn', 'urban_population_knn', 'longitud_knn', 'latitud_knn']] = imputer_knn_imputado\n",
    "#df_original[['agriculturalland_knn', 'landarea_knn', 'armedforcessize_knn', 'birthrate_knn', 'callingcode_knn', 'co2-emissions_knn', 'cpi_knn', 'cpichange_knn', 'fertilityrate_knn', 'forestedarea_knn', 'gasolineprice_knn', 'gdp_knn', 'grossprimaryeducationenrollment_knn', 'grosstertiaryeducationenrollment_knn', 'infantmortality_knn', 'lifeexpectancy_knn', 'maternalmortalityratio_knn', 'minimumwage_knn', 'outofpockethealthexpenditure_knn', 'physiciansperthousand_knn', 'population_knn', 'populationlaborforceparticipation_knn', 'taxrevenue_knn', 'totaltaxrate_knn', 'unemploymentrate_knn', 'urban_population_knn', 'longitud_knn', 'latitud_knn']].isnull().sum"
   ]
  },
  {
   "cell_type": "code",
   "execution_count": 19,
   "metadata": {},
   "outputs": [
    {
     "name": "stdout",
     "output_type": "stream",
     "text": [
      "['agriculturalland_knn', 'landarea_knn', 'armedforcessize_knn', 'birthrate_knn', 'callingcode_knn', 'co2-emissions_knn', 'cpi_knn', 'cpichange_knn', 'fertilityrate_knn', 'forestedarea_knn', 'gasolineprice_knn', 'gdp_knn', 'grossprimaryeducationenrollment_knn', 'grosstertiaryeducationenrollment_knn', 'infantmortality_knn', 'lifeexpectancy_knn', 'maternalmortalityratio_knn', 'minimumwage_knn', 'outofpockethealthexpenditure_knn', 'physiciansperthousand_knn', 'population_knn', 'populationlaborforceparticipation_knn', 'taxrevenue_knn', 'totaltaxrate_knn', 'unemploymentrate_knn', 'urban_population_knn', 'longitud_knn', 'latitud_knn']\n"
     ]
    }
   ],
   "source": [
    "#Para crear el listado de columnas nuevas\n",
    "palabras2 = ['agriculturalland', 'landarea', 'armedforcessize', 'birthrate',\n",
    "            'callingcode', 'co2-emissions', 'cpi', 'cpichange', 'fertilityrate',\n",
    "            'forestedarea', 'gasolineprice', 'gdp',\n",
    "            'grossprimaryeducationenrollment', 'grosstertiaryeducationenrollment',\n",
    "            'infantmortality', 'lifeexpectancy', 'maternalmortalityratio',\n",
    "            'minimumwage', 'outofpockethealthexpenditure', 'physiciansperthousand',\n",
    "            'population', 'populationlaborforceparticipation', 'taxrevenue',\n",
    "            'totaltaxrate', 'unemploymentrate', 'urban_population', 'longitud',\n",
    "            'latitud']\n",
    "\n",
    "palabras_knn = [palabra + '_knn' for palabra in palabras2]\n",
    "\n",
    "print(palabras_knn)"
   ]
  },
  {
   "cell_type": "code",
   "execution_count": 20,
   "metadata": {},
   "outputs": [
    {
     "name": "stdout",
     "output_type": "stream",
     "text": [
      "['agriculturalland', 'agriculturalland_iterativo', 'agriculturalland_knn', 'landarea', 'landarea_iterativo', 'landarea_knn', 'armedforcessize', 'armedforcessize_iterativo', 'armedforcessize_knn', 'birthrate', 'birthrate_iterativo', 'birthrate_knn', 'callingcode', 'callingcode_iterativo', 'callingcode_knn', 'co2-emissions', 'co2-emissions_iterativo', 'co2-emissions_knn', 'cpi', 'cpi_iterativo', 'cpi_knn', 'cpichange', 'cpichange_iterativo', 'cpichange_knn', 'fertilityrate', 'fertilityrate_iterativo', 'fertilityrate_knn', 'forestedarea', 'forestedarea_iterativo', 'forestedarea_knn', 'gasolineprice', 'gasolineprice_iterativo', 'gasolineprice_knn', 'gdp', 'gdp_iterativo', 'gdp_knn', 'grossprimaryeducationenrollment', 'grossprimaryeducationenrollment_iterativo', 'grossprimaryeducationenrollment_knn', 'grosstertiaryeducationenrollment', 'grosstertiaryeducationenrollment_iterativo', 'grosstertiaryeducationenrollment_knn', 'infantmortality', 'infantmortality_iterativo', 'infantmortality_knn', 'lifeexpectancy', 'lifeexpectancy_iterativo', 'lifeexpectancy_knn', 'maternalmortalityratio', 'maternalmortalityratio_iterativo', 'maternalmortalityratio_knn', 'minimumwage', 'minimumwage_iterativo', 'minimumwage_knn', 'outofpockethealthexpenditure', 'outofpockethealthexpenditure_iterativo', 'outofpockethealthexpenditure_knn', 'physiciansperthousand', 'physiciansperthousand_iterativo', 'physiciansperthousand_knn', 'population', 'population_iterativo', 'population_knn', 'populationlaborforceparticipation', 'populationlaborforceparticipation_iterativo', 'populationlaborforceparticipation_knn', 'taxrevenue', 'taxrevenue_iterativo', 'taxrevenue_knn', 'totaltaxrate', 'totaltaxrate_iterativo', 'totaltaxrate_knn', 'unemploymentrate', 'unemploymentrate_iterativo', 'unemploymentrate_knn', 'urban_population', 'urban_population_iterativo', 'urban_population_knn', 'longitud', 'longitud_iterativo', 'longitud_knn', 'latitud', 'latitud_iterativo', 'latitud_knn']\n"
     ]
    }
   ],
   "source": [
    "pal = ['agriculturalland', 'landarea', 'armedforcessize', 'birthrate','callingcode', 'co2-emissions', 'cpi', 'cpichange', 'fertilityrate','forestedarea', 'gasolineprice', 'gdp','grossprimaryeducationenrollment', 'grosstertiaryeducationenrollment','infantmortality', 'lifeexpectancy', 'maternalmortalityratio','minimumwage', 'outofpockethealthexpenditure', 'physiciansperthousand','population', 'populationlaborforceparticipation', 'taxrevenue','totaltaxrate', 'unemploymentrate', 'urban_population', 'longitud','latitud']\n",
    "pal2 = ['agriculturalland_iterativo', 'landarea_iterativo', 'armedforcessize_iterativo', 'birthrate_iterativo', 'callingcode_iterativo', 'co2-emissions_iterativo', 'cpi_iterativo', 'cpichange_iterativo', 'fertilityrate_iterativo', 'forestedarea_iterativo', 'gasolineprice_iterativo', 'gdp_iterativo', 'grossprimaryeducationenrollment_iterativo', 'grosstertiaryeducationenrollment_iterativo', 'infantmortality_iterativo', 'lifeexpectancy_iterativo', 'maternalmortalityratio_iterativo', 'minimumwage_iterativo', 'outofpockethealthexpenditure_iterativo', 'physiciansperthousand_iterativo', 'population_iterativo', 'populationlaborforceparticipation_iterativo', 'taxrevenue_iterativo', 'totaltaxrate_iterativo', 'unemploymentrate_iterativo', 'urban_population_iterativo', 'longitud_iterativo', 'latitud_iterativo']\n",
    "pal3 = ['agriculturalland_knn', 'landarea_knn', 'armedforcessize_knn', 'birthrate_knn', 'callingcode_knn', 'co2-emissions_knn', 'cpi_knn', 'cpichange_knn', 'fertilityrate_knn', 'forestedarea_knn', 'gasolineprice_knn', 'gdp_knn', 'grossprimaryeducationenrollment_knn', 'grosstertiaryeducationenrollment_knn', 'infantmortality_knn', 'lifeexpectancy_knn', 'maternalmortalityratio_knn', 'minimumwage_knn', 'outofpockethealthexpenditure_knn', 'physiciansperthousand_knn', 'population_knn', 'populationlaborforceparticipation_knn', 'taxrevenue_knn', 'totaltaxrate_knn', 'unemploymentrate_knn', 'urban_population_knn', 'longitud_knn', 'latitud_knn']\n",
    "\n",
    "\n",
    "# Usar zip para combinar las listas y luego aplanar la lista resultante\n",
    "lista_concatenada = [item for sublist in zip(pal, pal2, pal3) for item in sublist]\n",
    "\n",
    "print(lista_concatenada)"
   ]
  },
  {
   "cell_type": "code",
   "execution_count": null,
   "metadata": {},
   "outputs": [],
   "source": [
    "#COMPARAMOS PARA VER QUÉ MÉTODO CAMBIA MENOS LOS ESTADÍSTICOS ORIGINALES\n",
    "#df_original.describe()[['agriculturalland', 'agriculturalland_iterativo', 'agriculturalland_knn', 'landarea', 'landarea_iterativo', 'landarea_knn', 'armedforcessize', 'armedforcessize_iterativo', 'armedforcessize_knn', 'birthrate', 'birthrate_iterativo', 'birthrate_knn', 'callingcode', 'callingcode_iterativo', 'callingcode_knn', 'co2-emissions', 'co2-emissions_iterativo', 'co2-emissions_knn', 'cpi', 'cpi_iterativo', 'cpi_knn', 'cpichange', 'cpichange_iterativo', 'cpichange_knn', 'fertilityrate', 'fertilityrate_iterativo', 'fertilityrate_knn', 'forestedarea', 'forestedarea_iterativo', 'forestedarea_knn', 'gasolineprice', 'gasolineprice_iterativo', 'gasolineprice_knn', 'gdp', 'gdp_iterativo', 'gdp_knn', 'grossprimaryeducationenrollment', 'grossprimaryeducationenrollment_iterativo', 'grossprimaryeducationenrollment_knn', 'grosstertiaryeducationenrollment', 'grosstertiaryeducationenrollment_iterativo', 'grosstertiaryeducationenrollment_knn', 'infantmortality', 'infantmortality_iterativo', 'infantmortality_knn', 'lifeexpectancy', 'lifeexpectancy_iterativo', 'lifeexpectancy_knn', 'maternalmortalityratio', 'maternalmortalityratio_iterativo', 'maternalmortalityratio_knn', 'minimumwage', 'minimumwage_iterativo', 'minimumwage_knn', 'outofpockethealthexpenditure', 'outofpockethealthexpenditure_iterativo', 'outofpockethealthexpenditure_knn', 'physiciansperthousand', 'physiciansperthousand_iterativo', 'physiciansperthousand_knn', 'population', 'population_iterativo', 'population_knn', 'populationlaborforceparticipation', 'populationlaborforceparticipation_iterativo', 'populationlaborforceparticipation_knn', 'taxrevenue', 'taxrevenue_iterativo', 'taxrevenue_knn', 'totaltaxrate', 'totaltaxrate_iterativo', 'totaltaxrate_knn', 'unemploymentrate', 'unemploymentrate_iterativo', 'unemploymentrate_knn', 'urban_population', 'urban_population_iterativo', 'urban_population_knn', 'longitud', 'longitud_iterativo', 'longitud_knn', 'latitud', 'latitud_iterativo', 'latitud_knn'].T"
   ]
  },
  {
   "cell_type": "code",
   "execution_count": 21,
   "metadata": {},
   "outputs": [],
   "source": [
    "#Quitamos las columnas originales y las de aquellos métodos q están más alejados de la media y medianas de las originales\n",
    "df_original.drop(['agriculturalland', 'agriculturalland_iterativo','landarea', 'landarea_knn', 'armedforcessize', 'armedforcessize_knn', 'birthrate', 'birthrate_knn', 'callingcode_iterativo', 'callingcode_knn', 'co2-emissions', 'co2-emissions_iterativo','cpi', 'cpi_iterativo', 'cpichange', 'cpichange_iterativo', 'fertilityrate', 'fertilityrate_knn', 'forestedarea', 'forestedarea_knn', 'gasolineprice', 'gasolineprice_knn', 'gdp', 'gdp_iterativo', 'grossprimaryeducationenrollment', 'grossprimaryeducationenrollment_iterativo', 'grosstertiaryeducationenrollment', 'grosstertiaryeducationenrollment_knn', 'infantmortality', 'infantmortality_knn', 'lifeexpectancy', 'lifeexpectancy_knn', 'maternalmortalityratio', 'maternalmortalityratio_knn', 'minimumwage', 'minimumwage_knn', 'outofpockethealthexpenditure', 'outofpockethealthexpenditure_iterativo', 'physiciansperthousand', 'physiciansperthousand_knn', 'population', 'population_knn', 'populationlaborforceparticipation', 'populationlaborforceparticipation_iterativo', 'taxrevenue', 'taxrevenue_iterativo', 'totaltaxrate', 'totaltaxrate_iterativo', 'unemploymentrate', 'unemploymentrate_iterativo', 'urban_population', 'urban_population_knn', 'longitud', 'longitud_iterativo', 'latitud','latitud_knn'], axis = 1, inplace = True)"
   ]
  },
  {
   "cell_type": "code",
   "execution_count": 22,
   "metadata": {},
   "outputs": [
    {
     "data": {
      "text/plain": [
       "Index(['country', 'density', 'abbreviation', 'callingcode',\n",
       "       'capital/majorcity', 'currency-code', 'largestcity', 'officiallanguage',\n",
       "       'continent', 'landarea_iterativo', 'armedforcessize_iterativo',\n",
       "       'birthrate_iterativo', 'fertilityrate_iterativo',\n",
       "       'forestedarea_iterativo', 'gasolineprice_iterativo',\n",
       "       'grosstertiaryeducationenrollment_iterativo',\n",
       "       'infantmortality_iterativo', 'lifeexpectancy_iterativo',\n",
       "       'maternalmortalityratio_iterativo', 'minimumwage_iterativo',\n",
       "       'physiciansperthousand_iterativo', 'population_iterativo',\n",
       "       'urban_population_iterativo', 'latitud_iterativo',\n",
       "       'agriculturalland_knn', 'co2-emissions_knn', 'cpi_knn', 'cpichange_knn',\n",
       "       'gdp_knn', 'grossprimaryeducationenrollment_knn',\n",
       "       'outofpockethealthexpenditure_knn',\n",
       "       'populationlaborforceparticipation_knn', 'taxrevenue_knn',\n",
       "       'totaltaxrate_knn', 'unemploymentrate_knn', 'longitud_knn'],\n",
       "      dtype='object')"
      ]
     },
     "execution_count": 22,
     "metadata": {},
     "output_type": "execute_result"
    }
   ],
   "source": [
    "df_original.columns"
   ]
  },
  {
   "cell_type": "code",
   "execution_count": 24,
   "metadata": {},
   "outputs": [
    {
     "data": {
      "text/plain": [
       "(195, 36)"
      ]
     },
     "execution_count": 24,
     "metadata": {},
     "output_type": "execute_result"
    }
   ],
   "source": [
    "df.shape"
   ]
  },
  {
   "cell_type": "code",
   "execution_count": 25,
   "metadata": {},
   "outputs": [
    {
     "data": {
      "text/plain": [
       "(195, 36)"
      ]
     },
     "execution_count": 25,
     "metadata": {},
     "output_type": "execute_result"
    }
   ],
   "source": [
    "df_original.shape"
   ]
  },
  {
   "cell_type": "code",
   "execution_count": null,
   "metadata": {},
   "outputs": [],
   "source": [
    "pedro"
   ]
  },
  {
   "cell_type": "code",
   "execution_count": 26,
   "metadata": {},
   "outputs": [],
   "source": [
    "nuevo_nombre = {'landarea_iterativo': \"landarea\", 'armedforcessize_iterativo':\"armedforcessize\",\n",
    "       'birthrate_iterativo':\"birthrate\", 'fertilityrate_iterativo': \"fertilityrate\",\n",
    "       'forestedarea_iterativo':\"forestedarea\", 'gasolineprice_iterativo':\"gasolineprice\",\n",
    "       'grosstertiaryeducationenrollment_iterativo':\"grossteriiaryeducationenrollement\",\n",
    "       'infantmortality_iterativo':\"infantmortaility\", 'lifeexpectancy_iterativo':\"lifeexpectancy\",\n",
    "       'maternalmortalityratio_iterativo':\"maternalmortalityratio\", 'minimumwage_iterativo':\"minimumwage\",\n",
    "       'physiciansperthousand_iterativo':\"physicianperthousand\", 'population_iterativo':\"population\",\n",
    "       'urban_population_iterativo':\"urban_population\", 'latitud_iterativo':\"latitud\",\n",
    "       'agriculturalland_knn':\"agriculturalland\", 'co2-emissions_knn':\"co2_emissions\", \"cpi_knn\":\"cpi\",'cpichange_knn':\"cpichange\",\n",
    "       'gdp_knn':\"gdp\", 'grossprimaryeducationenrollment_knn':\"grossprimaryeducationenrollment\",\n",
    "       'outofpockethealthexpenditure_knn':\"outofpockethealexpenditure\",\n",
    "       'populationlaborforceparticipation_knn':\"populationlaborforceparitipation\", 'taxrevenue_knn':\"taxrevenue\",\n",
    "       'totaltaxrate_knn':\"totaltaxrate\", 'unemploymentrate_knn':\"unemploymentrate\", 'longitud_knn':\"longitud\", \n",
    "       \"country\":\"country\", \"continent\":\"continent\", 'density':\"density\", 'abbreviation':\"abbreviation\", 'callingcode':\"callingcode\",\n",
    "       'capital/majorcity':'capital/majorcity', 'currency-code': 'currency-code', 'largestcity':'largestcity', 'officiallanguage':'officiallanguage'}\n",
    "           \n",
    "df_original.rename(columns = nuevo_nombre, inplace = True)"
   ]
  },
  {
   "cell_type": "code",
   "execution_count": 29,
   "metadata": {},
   "outputs": [
    {
     "data": {
      "text/html": [
       "<div>\n",
       "<style scoped>\n",
       "    .dataframe tbody tr th:only-of-type {\n",
       "        vertical-align: middle;\n",
       "    }\n",
       "\n",
       "    .dataframe tbody tr th {\n",
       "        vertical-align: top;\n",
       "    }\n",
       "\n",
       "    .dataframe thead th {\n",
       "        text-align: right;\n",
       "    }\n",
       "</style>\n",
       "<table border=\"1\" class=\"dataframe\">\n",
       "  <thead>\n",
       "    <tr style=\"text-align: right;\">\n",
       "      <th></th>\n",
       "      <th>0</th>\n",
       "      <th>1</th>\n",
       "    </tr>\n",
       "  </thead>\n",
       "  <tbody>\n",
       "    <tr>\n",
       "      <th>country</th>\n",
       "      <td>Afghanistan</td>\n",
       "      <td>Albania</td>\n",
       "    </tr>\n",
       "    <tr>\n",
       "      <th>density</th>\n",
       "      <td>60</td>\n",
       "      <td>105</td>\n",
       "    </tr>\n",
       "    <tr>\n",
       "      <th>abbreviation</th>\n",
       "      <td>AF</td>\n",
       "      <td>AL</td>\n",
       "    </tr>\n",
       "    <tr>\n",
       "      <th>callingcode</th>\n",
       "      <td>93.0</td>\n",
       "      <td>355.0</td>\n",
       "    </tr>\n",
       "    <tr>\n",
       "      <th>capital/majorcity</th>\n",
       "      <td>Kabul</td>\n",
       "      <td>Tirana</td>\n",
       "    </tr>\n",
       "    <tr>\n",
       "      <th>currency-code</th>\n",
       "      <td>AFN</td>\n",
       "      <td>ALL</td>\n",
       "    </tr>\n",
       "    <tr>\n",
       "      <th>largestcity</th>\n",
       "      <td>Kabul</td>\n",
       "      <td>Tirana</td>\n",
       "    </tr>\n",
       "    <tr>\n",
       "      <th>officiallanguage</th>\n",
       "      <td>Pashto</td>\n",
       "      <td>Albanian</td>\n",
       "    </tr>\n",
       "    <tr>\n",
       "      <th>continent</th>\n",
       "      <td>Asia</td>\n",
       "      <td>Europe</td>\n",
       "    </tr>\n",
       "    <tr>\n",
       "      <th>landarea</th>\n",
       "      <td>652230.0</td>\n",
       "      <td>28748.0</td>\n",
       "    </tr>\n",
       "    <tr>\n",
       "      <th>armedforcessize</th>\n",
       "      <td>323000.0</td>\n",
       "      <td>9000.0</td>\n",
       "    </tr>\n",
       "    <tr>\n",
       "      <th>birthrate</th>\n",
       "      <td>32.49</td>\n",
       "      <td>11.78</td>\n",
       "    </tr>\n",
       "    <tr>\n",
       "      <th>fertilityrate</th>\n",
       "      <td>4.47</td>\n",
       "      <td>1.62</td>\n",
       "    </tr>\n",
       "    <tr>\n",
       "      <th>forestedarea</th>\n",
       "      <td>2.1</td>\n",
       "      <td>28.1</td>\n",
       "    </tr>\n",
       "    <tr>\n",
       "      <th>gasolineprice</th>\n",
       "      <td>0.7</td>\n",
       "      <td>1.36</td>\n",
       "    </tr>\n",
       "    <tr>\n",
       "      <th>grossteriiaryeducationenrollement</th>\n",
       "      <td>9.7</td>\n",
       "      <td>55.0</td>\n",
       "    </tr>\n",
       "    <tr>\n",
       "      <th>infantmortaility</th>\n",
       "      <td>47.9</td>\n",
       "      <td>7.8</td>\n",
       "    </tr>\n",
       "    <tr>\n",
       "      <th>lifeexpectancy</th>\n",
       "      <td>64.5</td>\n",
       "      <td>78.5</td>\n",
       "    </tr>\n",
       "    <tr>\n",
       "      <th>maternalmortalityratio</th>\n",
       "      <td>638.0</td>\n",
       "      <td>15.0</td>\n",
       "    </tr>\n",
       "    <tr>\n",
       "      <th>minimumwage</th>\n",
       "      <td>0.43</td>\n",
       "      <td>1.12</td>\n",
       "    </tr>\n",
       "    <tr>\n",
       "      <th>physicianperthousand</th>\n",
       "      <td>0.28</td>\n",
       "      <td>1.2</td>\n",
       "    </tr>\n",
       "    <tr>\n",
       "      <th>population</th>\n",
       "      <td>38041754.0</td>\n",
       "      <td>2854191.0</td>\n",
       "    </tr>\n",
       "    <tr>\n",
       "      <th>urban_population</th>\n",
       "      <td>9797273.0</td>\n",
       "      <td>1747593.0</td>\n",
       "    </tr>\n",
       "    <tr>\n",
       "      <th>latitud</th>\n",
       "      <td>67.709953</td>\n",
       "      <td>20.168331</td>\n",
       "    </tr>\n",
       "    <tr>\n",
       "      <th>agriculturalland</th>\n",
       "      <td>58.1</td>\n",
       "      <td>43.1</td>\n",
       "    </tr>\n",
       "    <tr>\n",
       "      <th>co2_emissions</th>\n",
       "      <td>8672.0</td>\n",
       "      <td>4536.0</td>\n",
       "    </tr>\n",
       "    <tr>\n",
       "      <th>cpi</th>\n",
       "      <td>149.9</td>\n",
       "      <td>119.05</td>\n",
       "    </tr>\n",
       "    <tr>\n",
       "      <th>cpichange</th>\n",
       "      <td>2.3</td>\n",
       "      <td>1.4</td>\n",
       "    </tr>\n",
       "    <tr>\n",
       "      <th>gdp</th>\n",
       "      <td>19101353833.0</td>\n",
       "      <td>15278077447.0</td>\n",
       "    </tr>\n",
       "    <tr>\n",
       "      <th>grossprimaryeducationenrollment</th>\n",
       "      <td>104.0</td>\n",
       "      <td>107.0</td>\n",
       "    </tr>\n",
       "    <tr>\n",
       "      <th>outofpockethealexpenditure</th>\n",
       "      <td>78.4</td>\n",
       "      <td>56.9</td>\n",
       "    </tr>\n",
       "    <tr>\n",
       "      <th>populationlaborforceparitipation</th>\n",
       "      <td>48.9</td>\n",
       "      <td>55.7</td>\n",
       "    </tr>\n",
       "    <tr>\n",
       "      <th>taxrevenue</th>\n",
       "      <td>9.3</td>\n",
       "      <td>18.6</td>\n",
       "    </tr>\n",
       "    <tr>\n",
       "      <th>totaltaxrate</th>\n",
       "      <td>71.4</td>\n",
       "      <td>36.6</td>\n",
       "    </tr>\n",
       "    <tr>\n",
       "      <th>unemploymentrate</th>\n",
       "      <td>11.12</td>\n",
       "      <td>12.33</td>\n",
       "    </tr>\n",
       "    <tr>\n",
       "      <th>longitud</th>\n",
       "      <td>33.93911</td>\n",
       "      <td>41.153332</td>\n",
       "    </tr>\n",
       "  </tbody>\n",
       "</table>\n",
       "</div>"
      ],
      "text/plain": [
       "                                               0              1\n",
       "country                              Afghanistan        Albania\n",
       "density                                       60            105\n",
       "abbreviation                                  AF             AL\n",
       "callingcode                                 93.0          355.0\n",
       "capital/majorcity                          Kabul         Tirana\n",
       "currency-code                                AFN            ALL\n",
       "largestcity                                Kabul         Tirana\n",
       "officiallanguage                          Pashto       Albanian\n",
       "continent                                   Asia         Europe\n",
       "landarea                                652230.0        28748.0\n",
       "armedforcessize                         323000.0         9000.0\n",
       "birthrate                                  32.49          11.78\n",
       "fertilityrate                               4.47           1.62\n",
       "forestedarea                                 2.1           28.1\n",
       "gasolineprice                                0.7           1.36\n",
       "grossteriiaryeducationenrollement            9.7           55.0\n",
       "infantmortaility                            47.9            7.8\n",
       "lifeexpectancy                              64.5           78.5\n",
       "maternalmortalityratio                     638.0           15.0\n",
       "minimumwage                                 0.43           1.12\n",
       "physicianperthousand                        0.28            1.2\n",
       "population                            38041754.0      2854191.0\n",
       "urban_population                       9797273.0      1747593.0\n",
       "latitud                                67.709953      20.168331\n",
       "agriculturalland                            58.1           43.1\n",
       "co2_emissions                             8672.0         4536.0\n",
       "cpi                                        149.9         119.05\n",
       "cpichange                                    2.3            1.4\n",
       "gdp                                19101353833.0  15278077447.0\n",
       "grossprimaryeducationenrollment            104.0          107.0\n",
       "outofpockethealexpenditure                  78.4           56.9\n",
       "populationlaborforceparitipation            48.9           55.7\n",
       "taxrevenue                                   9.3           18.6\n",
       "totaltaxrate                                71.4           36.6\n",
       "unemploymentrate                           11.12          12.33\n",
       "longitud                                33.93911      41.153332"
      ]
     },
     "execution_count": 29,
     "metadata": {},
     "output_type": "execute_result"
    }
   ],
   "source": [
    "df_original.head(2).T"
   ]
  },
  {
   "cell_type": "code",
   "execution_count": 30,
   "metadata": {},
   "outputs": [],
   "source": [
    "#puesto que calling code es dependiente del país, ponemos \"unknown\" a pesar q sea numérica\n",
    "df_original[\"callingcode\"] = df_original[\"callingcode\"].fillna(\"Unknown\")"
   ]
  },
  {
   "cell_type": "code",
   "execution_count": 31,
   "metadata": {},
   "outputs": [
    {
     "data": {
      "text/plain": [
       "country                              0\n",
       "density                              0\n",
       "abbreviation                         0\n",
       "callingcode                          0\n",
       "capital/majorcity                    0\n",
       "currency-code                        0\n",
       "largestcity                          0\n",
       "officiallanguage                     0\n",
       "continent                            0\n",
       "landarea                             0\n",
       "armedforcessize                      0\n",
       "birthrate                            0\n",
       "fertilityrate                        0\n",
       "forestedarea                         0\n",
       "gasolineprice                        0\n",
       "grossteriiaryeducationenrollement    0\n",
       "infantmortaility                     0\n",
       "lifeexpectancy                       0\n",
       "maternalmortalityratio               0\n",
       "minimumwage                          0\n",
       "physicianperthousand                 0\n",
       "population                           0\n",
       "urban_population                     0\n",
       "latitud                              0\n",
       "agriculturalland                     0\n",
       "co2_emissions                        0\n",
       "cpi                                  0\n",
       "cpichange                            0\n",
       "gdp                                  0\n",
       "grossprimaryeducationenrollment      0\n",
       "outofpockethealexpenditure           0\n",
       "populationlaborforceparitipation     0\n",
       "taxrevenue                           0\n",
       "totaltaxrate                         0\n",
       "unemploymentrate                     0\n",
       "longitud                             0\n",
       "dtype: int64"
      ]
     },
     "execution_count": 31,
     "metadata": {},
     "output_type": "execute_result"
    }
   ],
   "source": [
    "#vrificamos si queda algún nulo\n",
    "df_original.isnull().sum()"
   ]
  },
  {
   "cell_type": "code",
   "execution_count": 32,
   "metadata": {},
   "outputs": [],
   "source": [
    "#lo guardamos\n",
    "df_original.to_csv(\"../metricas_paises.csv\")"
   ]
  },
  {
   "cell_type": "code",
   "execution_count": null,
   "metadata": {},
   "outputs": [],
   "source": [
    "Notas: Mantener las siguientes columnas:\n",
    "agriculturaland_knn\n",
    "landarea_iterativo\n",
    "armedforcessize_iterativo\n",
    "birthrate_iterativo\n",
    "co2-emissions_knn\n",
    "cpi_knn\n",
    "cpi_change_knn\n",
    "fertilityrate_iterativo\n",
    "forestedarea_iterativo\n",
    "gasolineprice_iterativo\n",
    "gdp_knn\n",
    "grossprimaryeducationenrollment_knn\n",
    "grosstertiary_iterativo\n",
    "infantmortality_iterativo\n",
    "lifeexpectancy_iterativo\n",
    "maternalmortality_ierativo\n",
    "minimumwage_iterativo\n",
    "pocket_knn\n",
    "physicial_iterativo\n",
    "population_iterativo\n",
    "populationforceparticipation_knn\n",
    "tax_revenue_knn\n",
    "total_taxrate_knn\n",
    "unemployment_knn\n",
    "urban_it\n",
    "longitud_knn\n",
    "latitud_it\n",
    "\n",
    "\n",
    "\n",
    "\n",
    "calling_code - unknown\n"
   ]
  }
 ],
 "metadata": {
  "kernelspec": {
   "display_name": "base",
   "language": "python",
   "name": "python3"
  },
  "language_info": {
   "codemirror_mode": {
    "name": "ipython",
    "version": 3
   },
   "file_extension": ".py",
   "mimetype": "text/x-python",
   "name": "python",
   "nbconvert_exporter": "python",
   "pygments_lexer": "ipython3",
   "version": "3.9.7"
  }
 },
 "nbformat": 4,
 "nbformat_minor": 2
}
